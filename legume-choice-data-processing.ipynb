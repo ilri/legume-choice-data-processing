{
 "metadata": {
  "language_info": {
   "codemirror_mode": {
    "name": "ipython",
    "version": 3
   },
   "file_extension": ".py",
   "mimetype": "text/x-python",
   "name": "python",
   "nbconvert_exporter": "python",
   "pygments_lexer": "ipython3",
   "version": "3.8.5-final"
  },
  "orig_nbformat": 2,
  "kernelspec": {
   "name": "python38564bit009b3aeb1fc3468499e8b7ce7fc7674d",
   "display_name": "Python 3.8.5 64-bit",
   "language": "python"
  }
 },
 "nbformat": 4,
 "nbformat_minor": 2,
 "cells": [
  {
   "cell_type": "code",
   "execution_count": 1,
   "metadata": {},
   "outputs": [],
   "source": [
    "import pandas as pd \n",
    "import pymongo"
   ]
  },
  {
   "source": [
    "## Connecting to DB"
   ],
   "cell_type": "markdown",
   "metadata": {}
  },
  {
   "cell_type": "code",
   "execution_count": 2,
   "metadata": {},
   "outputs": [
    {
     "output_type": "stream",
     "name": "stdout",
     "text": [
      "legume-choice\n3\n"
     ]
    }
   ],
   "source": [
    "client = pymongo.MongoClient(\"localhost\", 27017)\n",
    "db = client[\"legume-choice\"]\n",
    "print(db.name)\n",
    "# Extracting the projects data\n",
    "projectsData =  db[\"projects\"]\n",
    "# Finding the number of projects\n",
    "print(projectsData.count_documents({}))"
   ]
  },
  {
   "source": [
    "## Extracting Data"
   ],
   "cell_type": "markdown",
   "metadata": {}
  },
  {
   "cell_type": "code",
   "execution_count": 3,
   "metadata": {
    "tags": []
   },
   "outputs": [
    {
     "output_type": "execute_result",
     "data": {
      "text/plain": [
       "{'biofilters': [{'name': 'Rainfall (mm/year)',\n",
       "   'label': 'rainfall',\n",
       "   'minValue': 280,\n",
       "   'maxValue': 4290,\n",
       "   'value': 2175},\n",
       "  {'name': 'Temperature (mean °C/month)',\n",
       "   'label': 'temp',\n",
       "   'minValue': 0,\n",
       "   'maxValue': 45,\n",
       "   'value': 14.5},\n",
       "  {'name': 'Altitude (average masl)',\n",
       "   'label': 'alt',\n",
       "   'minValue': 0,\n",
       "   'maxValue': 3800,\n",
       "   'value': 1845},\n",
       "  {'name': 'Soil pH (average)',\n",
       "   'label': 'soilpH',\n",
       "   'minValue': 4,\n",
       "   'maxValue': 9,\n",
       "   'value': 8.5}]}"
      ]
     },
     "metadata": {},
     "execution_count": 3
    }
   ],
   "source": [
    "# Extacting all projects\n",
    "allProjects = []\n",
    "for project in projectsData.find():\n",
    "        allProjects.append(project)\n",
    "\n",
    "# Example querying from the dataset\n",
    "\n",
    "allProjects[0][\"rawdata\"][\"agroEcoData\"]\n"
   ]
  },
  {
   "source": [
    "## Extracting Agro Ecological Scores for all Projects"
   ],
   "cell_type": "markdown",
   "metadata": {}
  },
  {
   "cell_type": "code",
   "execution_count": 11,
   "metadata": {},
   "outputs": [],
   "source": [
    "# Tabular AgroEco scores\n",
    "\n",
    "def ExtractProjectAgroEcoData(project):\n",
    "    projectID =  project[\"projectID\"]\n",
    "    projectName =  project[\"rawdata\"][\"projectInfo\"][\"projectName\"]\n",
    "\n",
    "    agroEcoData = project[\"rawdata\"][\"agroEcoData\"][\"biofilters\"]\n",
    "\n",
    "    row={\"projectID\":projectID,\"projectName\":projectName}\n",
    "\n",
    "\n",
    "    for index in range(0,len(agroEcoData)):\n",
    "        row[agroEcoData[index][\"label\"]]=agroEcoData[index][\"value\"]\n",
    "        \n",
    "    return row\n",
    "def ExtractAllAgroEcoData(projects):\n",
    "    agroEcoData=[]\n",
    "    for project in projects:\n",
    "        agroEcoData.append(ExtractProjectAgroEcoData(project=project))\n",
    "    return pd.DataFrame(agroEcoData)\n",
    "\n",
    "\n"
   ]
  },
  {
   "cell_type": "code",
   "execution_count": 12,
   "metadata": {},
   "outputs": [],
   "source": [
    "agroEcoData = ExtractAllAgroEcoData(allProjects)\n",
    "agroEcoData"
   ]
  },
  {
   "source": [
    "## Extracting all Data for Context Scores"
   ],
   "cell_type": "markdown",
   "metadata": {}
  },
  {
   "cell_type": "code",
   "execution_count": 59,
   "metadata": {},
   "outputs": [],
   "source": [
    "def subsetScoresByVariables(scores, attributeLabel, participantLabel, typologyLabel, average):\n",
    "\n",
    "    if (average==False):\n",
    "        for score in scores:\n",
    "            if (score[\"scoreType\"]==\"individual\" and \n",
    "            score[\"attribute\"][\"label\"]==attributeLabel and \n",
    "            score[\"participant\"][\"label\"]==participantLabel and \n",
    "            score[\"typology\"][\"label\"]==typologyLabel):\n",
    "                 return score[\"score\"]\n",
    "\n",
    "    if (average==True):\n",
    "        for score in scores:\n",
    "            if (score[\"scoreType\"]==\"average\" and \n",
    "            score[\"attribute\"][\"label\"]==attributeLabel): \n",
    "                return score[\"score\"]\n",
    "\n",
    "    raise ValueError(\"Did not identify correct subset\")\n",
    "    \n",
    "\n",
    "def ScoresForAllAttributes(scores, attributes, participant, typology, average):\n",
    "    listOfScores=[]\n",
    "    for attribute in attributes:\n",
    "        listOfScores.append(subsetScoresByVariables(scores=scores, \n",
    "        attributeLabel=attribute[\"label\"], \n",
    "        participantLabel=participant[\"label\"], \n",
    "        typologyLabel=typology[\"label\"], \n",
    "        average=average))\n",
    "\n",
    "    return listOfScores\n",
    "\n",
    "\n",
    "def projectContextScores(project):\n",
    "\n",
    "    # Initialising Variables\n",
    "    projectID =  project[\"projectID\"]\n",
    "    projectName =  project[\"rawdata\"][\"projectInfo\"][\"projectName\"]\n",
    "\n",
    "\n",
    "    allScores = project[\"rawdata\"][\"contextScores\"][\"scores\"]\n",
    "    attributes = project[\"rawdata\"][\"contextScores\"][\"attributes\"]\n",
    "    participants = project[\"rawdata\"][\"contextScores\"][\"participants\"]\n",
    "    typologies = project[\"rawdata\"][\"contextScores\"][\"typologies\"]\n",
    "\n",
    "    # Creating column names for dataframe\n",
    "    typologyColumns = [ \"t_\"+typology[\"label\"] for typology in typologies]\n",
    "    participantColumns = [participant[\"label\"] for participant in participants]\n",
    "    allColumns = [typ+\"_\"+particip for typ in typologyColumns for particip in participantColumns]\n",
    "\n",
    "    # Initialising empty array of scores\n",
    "    scoresToReturn={}\n",
    "    column=0\n",
    "    scoresToReturn[\"projectName\"] = [projectName for attribute in attributes]\n",
    "    scoresToReturn[\"projectID\"] = [projectID for attribute in attributes]\n",
    "    for typology in typologies:\n",
    "        for participant in participants:\n",
    "            scoresToReturn[allColumns[column]]=ScoresForAllAttributes(scores=allScores, \n",
    "                                                                        attributes=attributes,\n",
    "                                                                        participant=participant, \n",
    "                                                                        typology=typology, \n",
    "                                                                        average=False )\n",
    "            column+=1\n",
    "    \n",
    "    scoresToReturn[\"average\"]=ScoresForAllAttributes(scores=allScores, \n",
    "                                                        attributes=attributes,\n",
    "                                                        participant=participants[1], \n",
    "                                                        typology=participants[1], \n",
    "                                                        average=True )\n",
    "    return scoresToReturn\n",
    "\n",
    "def ContextScoresAllProjectsList(projects):\n",
    "    projectsCombined=[]\n",
    "    #projectIndex=0\n",
    "    for project in projects:\n",
    "        projectsCombined.append(projectContextScores(project=project))\n",
    "        #projectIndex+=1\n",
    "    return(projectsCombined)\n",
    "\n",
    "def ContextScoresAllProjects(projects):\n",
    "    contextScoresList = ContextScoresAllProjectsList(allProjects)\n",
    "    if len(contextScoresList)==1:\n",
    "        return pd.DataFrame(contextScoresList)\n",
    "    if len(contextScoresList)>1:\n",
    "        contextScoresDF=pd.DataFrame(contextScoresList[0])\n",
    "        for scoreItem in contextScoresList[1:]:\n",
    "            contextScoresDF = contextScoresDF.append(pd.DataFrame(scoreItem))\n",
    "    return contextScoresDF\n",
    "\n",
    "\n",
    "        "
   ]
  },
  {
   "cell_type": "code",
   "execution_count": 60,
   "metadata": {},
   "outputs": [
    {
     "output_type": "execute_result",
     "data": {
      "text/plain": [
       "  projectName                             projectID  t_low_farmer  \\\n",
       "0     wqeaafd  d4e74b50-6b07-4bb2-9be7-af7f52e4947d             1   \n",
       "1     wqeaafd  d4e74b50-6b07-4bb2-9be7-af7f52e4947d             2   \n",
       "2     wqeaafd  d4e74b50-6b07-4bb2-9be7-af7f52e4947d             1   \n",
       "3     wqeaafd  d4e74b50-6b07-4bb2-9be7-af7f52e4947d             2   \n",
       "4     wqeaafd  d4e74b50-6b07-4bb2-9be7-af7f52e4947d             4   \n",
       "5     wqeaafd  d4e74b50-6b07-4bb2-9be7-af7f52e4947d             1   \n",
       "6     wqeaafd  d4e74b50-6b07-4bb2-9be7-af7f52e4947d             3   \n",
       "0   Project 2  d4e74b50-6b07-4bb2-9be7-af7f52e4947d             3   \n",
       "1   Project 2  d4e74b50-6b07-4bb2-9be7-af7f52e4947d             1   \n",
       "2   Project 2  d4e74b50-6b07-4bb2-9be7-af7f52e4947d             4   \n",
       "3   Project 2  d4e74b50-6b07-4bb2-9be7-af7f52e4947d             4   \n",
       "4   Project 2  d4e74b50-6b07-4bb2-9be7-af7f52e4947d             0   \n",
       "5   Project 2  d4e74b50-6b07-4bb2-9be7-af7f52e4947d             4   \n",
       "6   Project 2  d4e74b50-6b07-4bb2-9be7-af7f52e4947d             3   \n",
       "0   Project 3  9c824f39-779c-446b-8d36-3f114fcdfeb9             2   \n",
       "1   Project 3  9c824f39-779c-446b-8d36-3f114fcdfeb9             0   \n",
       "2   Project 3  9c824f39-779c-446b-8d36-3f114fcdfeb9             0   \n",
       "3   Project 3  9c824f39-779c-446b-8d36-3f114fcdfeb9             0   \n",
       "4   Project 3  9c824f39-779c-446b-8d36-3f114fcdfeb9             3   \n",
       "5   Project 3  9c824f39-779c-446b-8d36-3f114fcdfeb9             0   \n",
       "6   Project 3  9c824f39-779c-446b-8d36-3f114fcdfeb9             3   \n",
       "\n",
       "   t_low_expert  t_med_farmer  t_med_expert  t_high_farmer  t_high_expert  \\\n",
       "0             2             3             1              4              2   \n",
       "1             3             1             2              4              4   \n",
       "2             2             4             1              2              4   \n",
       "3             3             4             4              4              4   \n",
       "4             1             4             0              3              4   \n",
       "5             1             0             0              1              0   \n",
       "6             0             4             0              0              0   \n",
       "0             2             4             1              4              2   \n",
       "1             1             1             2              4              4   \n",
       "2             0             4             1              0              4   \n",
       "3             0             4             0              4              4   \n",
       "4             1             0             0              3              4   \n",
       "5             4             0             0              1              0   \n",
       "6             0             4             0              0              0   \n",
       "0             0             0             0              0              0   \n",
       "1             3             0             0              0              0   \n",
       "2             0             4             4              4              0   \n",
       "3             0             0             0              0              0   \n",
       "4             2             2             0              0              0   \n",
       "5             0             0             0              0              0   \n",
       "6             0             2             2              0              0   \n",
       "\n",
       "    average  \n",
       "0  2.166667  \n",
       "1  2.666667  \n",
       "2  2.333333  \n",
       "3  3.500000  \n",
       "4  2.666667  \n",
       "5  0.500000  \n",
       "6  1.166667  \n",
       "0  2.666667  \n",
       "1  2.166667  \n",
       "2  2.166667  \n",
       "3  2.666667  \n",
       "4  1.333333  \n",
       "5  1.500000  \n",
       "6  1.166667  \n",
       "0  0.333333  \n",
       "1  0.500000  \n",
       "2  2.000000  \n",
       "3  0.000000  \n",
       "4  1.166667  \n",
       "5  0.000000  \n",
       "6  1.166667  "
      ],
      "text/html": "<div>\n<style scoped>\n    .dataframe tbody tr th:only-of-type {\n        vertical-align: middle;\n    }\n\n    .dataframe tbody tr th {\n        vertical-align: top;\n    }\n\n    .dataframe thead th {\n        text-align: right;\n    }\n</style>\n<table border=\"1\" class=\"dataframe\">\n  <thead>\n    <tr style=\"text-align: right;\">\n      <th></th>\n      <th>projectName</th>\n      <th>projectID</th>\n      <th>t_low_farmer</th>\n      <th>t_low_expert</th>\n      <th>t_med_farmer</th>\n      <th>t_med_expert</th>\n      <th>t_high_farmer</th>\n      <th>t_high_expert</th>\n      <th>average</th>\n    </tr>\n  </thead>\n  <tbody>\n    <tr>\n      <th>0</th>\n      <td>wqeaafd</td>\n      <td>d4e74b50-6b07-4bb2-9be7-af7f52e4947d</td>\n      <td>1</td>\n      <td>2</td>\n      <td>3</td>\n      <td>1</td>\n      <td>4</td>\n      <td>2</td>\n      <td>2.166667</td>\n    </tr>\n    <tr>\n      <th>1</th>\n      <td>wqeaafd</td>\n      <td>d4e74b50-6b07-4bb2-9be7-af7f52e4947d</td>\n      <td>2</td>\n      <td>3</td>\n      <td>1</td>\n      <td>2</td>\n      <td>4</td>\n      <td>4</td>\n      <td>2.666667</td>\n    </tr>\n    <tr>\n      <th>2</th>\n      <td>wqeaafd</td>\n      <td>d4e74b50-6b07-4bb2-9be7-af7f52e4947d</td>\n      <td>1</td>\n      <td>2</td>\n      <td>4</td>\n      <td>1</td>\n      <td>2</td>\n      <td>4</td>\n      <td>2.333333</td>\n    </tr>\n    <tr>\n      <th>3</th>\n      <td>wqeaafd</td>\n      <td>d4e74b50-6b07-4bb2-9be7-af7f52e4947d</td>\n      <td>2</td>\n      <td>3</td>\n      <td>4</td>\n      <td>4</td>\n      <td>4</td>\n      <td>4</td>\n      <td>3.500000</td>\n    </tr>\n    <tr>\n      <th>4</th>\n      <td>wqeaafd</td>\n      <td>d4e74b50-6b07-4bb2-9be7-af7f52e4947d</td>\n      <td>4</td>\n      <td>1</td>\n      <td>4</td>\n      <td>0</td>\n      <td>3</td>\n      <td>4</td>\n      <td>2.666667</td>\n    </tr>\n    <tr>\n      <th>5</th>\n      <td>wqeaafd</td>\n      <td>d4e74b50-6b07-4bb2-9be7-af7f52e4947d</td>\n      <td>1</td>\n      <td>1</td>\n      <td>0</td>\n      <td>0</td>\n      <td>1</td>\n      <td>0</td>\n      <td>0.500000</td>\n    </tr>\n    <tr>\n      <th>6</th>\n      <td>wqeaafd</td>\n      <td>d4e74b50-6b07-4bb2-9be7-af7f52e4947d</td>\n      <td>3</td>\n      <td>0</td>\n      <td>4</td>\n      <td>0</td>\n      <td>0</td>\n      <td>0</td>\n      <td>1.166667</td>\n    </tr>\n    <tr>\n      <th>0</th>\n      <td>Project 2</td>\n      <td>d4e74b50-6b07-4bb2-9be7-af7f52e4947d</td>\n      <td>3</td>\n      <td>2</td>\n      <td>4</td>\n      <td>1</td>\n      <td>4</td>\n      <td>2</td>\n      <td>2.666667</td>\n    </tr>\n    <tr>\n      <th>1</th>\n      <td>Project 2</td>\n      <td>d4e74b50-6b07-4bb2-9be7-af7f52e4947d</td>\n      <td>1</td>\n      <td>1</td>\n      <td>1</td>\n      <td>2</td>\n      <td>4</td>\n      <td>4</td>\n      <td>2.166667</td>\n    </tr>\n    <tr>\n      <th>2</th>\n      <td>Project 2</td>\n      <td>d4e74b50-6b07-4bb2-9be7-af7f52e4947d</td>\n      <td>4</td>\n      <td>0</td>\n      <td>4</td>\n      <td>1</td>\n      <td>0</td>\n      <td>4</td>\n      <td>2.166667</td>\n    </tr>\n    <tr>\n      <th>3</th>\n      <td>Project 2</td>\n      <td>d4e74b50-6b07-4bb2-9be7-af7f52e4947d</td>\n      <td>4</td>\n      <td>0</td>\n      <td>4</td>\n      <td>0</td>\n      <td>4</td>\n      <td>4</td>\n      <td>2.666667</td>\n    </tr>\n    <tr>\n      <th>4</th>\n      <td>Project 2</td>\n      <td>d4e74b50-6b07-4bb2-9be7-af7f52e4947d</td>\n      <td>0</td>\n      <td>1</td>\n      <td>0</td>\n      <td>0</td>\n      <td>3</td>\n      <td>4</td>\n      <td>1.333333</td>\n    </tr>\n    <tr>\n      <th>5</th>\n      <td>Project 2</td>\n      <td>d4e74b50-6b07-4bb2-9be7-af7f52e4947d</td>\n      <td>4</td>\n      <td>4</td>\n      <td>0</td>\n      <td>0</td>\n      <td>1</td>\n      <td>0</td>\n      <td>1.500000</td>\n    </tr>\n    <tr>\n      <th>6</th>\n      <td>Project 2</td>\n      <td>d4e74b50-6b07-4bb2-9be7-af7f52e4947d</td>\n      <td>3</td>\n      <td>0</td>\n      <td>4</td>\n      <td>0</td>\n      <td>0</td>\n      <td>0</td>\n      <td>1.166667</td>\n    </tr>\n    <tr>\n      <th>0</th>\n      <td>Project 3</td>\n      <td>9c824f39-779c-446b-8d36-3f114fcdfeb9</td>\n      <td>2</td>\n      <td>0</td>\n      <td>0</td>\n      <td>0</td>\n      <td>0</td>\n      <td>0</td>\n      <td>0.333333</td>\n    </tr>\n    <tr>\n      <th>1</th>\n      <td>Project 3</td>\n      <td>9c824f39-779c-446b-8d36-3f114fcdfeb9</td>\n      <td>0</td>\n      <td>3</td>\n      <td>0</td>\n      <td>0</td>\n      <td>0</td>\n      <td>0</td>\n      <td>0.500000</td>\n    </tr>\n    <tr>\n      <th>2</th>\n      <td>Project 3</td>\n      <td>9c824f39-779c-446b-8d36-3f114fcdfeb9</td>\n      <td>0</td>\n      <td>0</td>\n      <td>4</td>\n      <td>4</td>\n      <td>4</td>\n      <td>0</td>\n      <td>2.000000</td>\n    </tr>\n    <tr>\n      <th>3</th>\n      <td>Project 3</td>\n      <td>9c824f39-779c-446b-8d36-3f114fcdfeb9</td>\n      <td>0</td>\n      <td>0</td>\n      <td>0</td>\n      <td>0</td>\n      <td>0</td>\n      <td>0</td>\n      <td>0.000000</td>\n    </tr>\n    <tr>\n      <th>4</th>\n      <td>Project 3</td>\n      <td>9c824f39-779c-446b-8d36-3f114fcdfeb9</td>\n      <td>3</td>\n      <td>2</td>\n      <td>2</td>\n      <td>0</td>\n      <td>0</td>\n      <td>0</td>\n      <td>1.166667</td>\n    </tr>\n    <tr>\n      <th>5</th>\n      <td>Project 3</td>\n      <td>9c824f39-779c-446b-8d36-3f114fcdfeb9</td>\n      <td>0</td>\n      <td>0</td>\n      <td>0</td>\n      <td>0</td>\n      <td>0</td>\n      <td>0</td>\n      <td>0.000000</td>\n    </tr>\n    <tr>\n      <th>6</th>\n      <td>Project 3</td>\n      <td>9c824f39-779c-446b-8d36-3f114fcdfeb9</td>\n      <td>3</td>\n      <td>0</td>\n      <td>2</td>\n      <td>2</td>\n      <td>0</td>\n      <td>0</td>\n      <td>1.166667</td>\n    </tr>\n  </tbody>\n</table>\n</div>"
     },
     "metadata": {},
     "execution_count": 60
    }
   ],
   "source": [
    "ContextScoresAllProjects(projects=allProjects)\n"
   ]
  },
  {
   "source": [
    "## Extracting Data for PairWise Rankings"
   ],
   "cell_type": "markdown",
   "metadata": {}
  },
  {
   "source": [
    "### Individual Selections"
   ],
   "cell_type": "markdown",
   "metadata": {}
  },
  {
   "cell_type": "code",
   "execution_count": 119,
   "metadata": {},
   "outputs": [],
   "source": [
    "def pairWiseSelectionsProjectGender(project,gender):\n",
    "\n",
    "    selections = project[\"rawdata\"][\"pairWiseScores\"][gender][\"pairwiseSelection\"]\n",
    "    projectName= project[\"rawdata\"][\"projectInfo\"][\"projectName\"]\n",
    "    projectID= project[\"projectID\"]\n",
    "\n",
    "    selectionsToReturn=[]\n",
    "\n",
    "    for selection in selections:\n",
    "        selectionToAppend={\n",
    "            \"projectName\": projectName,\n",
    "            \"projectID\":projectID,\n",
    "            \"option1\": selection[\"funct1\"][\"name\"],\n",
    "            \"option2\": selection[\"funct2\"][\"name\"],\n",
    "            gender+\"Choice\": selection[\"value\"][\"name\"],\n",
    "        }\n",
    "        selectionsToReturn.append(selectionToAppend)\n",
    "    return pd.DataFrame(selectionsToReturn)\n",
    "\n",
    "def pairWiseSelectionsProject(project):\n",
    "    male=pairWiseSelectionsProjectGender(project=project,gender=\"male\")\n",
    "    female=pairWiseSelectionsProjectGender(project=project,gender=\"female\")\n",
    "\n",
    "    allSelections = male\n",
    "    allSelections[\"femaleChoice\"] = female[\"femaleChoice\"]\n",
    "    return allSelections\n",
    "\n",
    "def pairWiseSelectionsAllProjects(projects):\n",
    "    if len(projects)==1:\n",
    "        return pairWiseSelectionsProject(projects)\n",
    "    if len(projects)>1:\n",
    "        pairWiseScoresDF=pairWiseSelectionsProject(projects[0])\n",
    "        for project in projects[1:]:\n",
    "            pairWiseScoresDF = pairWiseScoresDF.append(pairWiseSelectionsProject(project))\n",
    "    return pairWiseScoresDF\n",
    "\n",
    "\n",
    "\n"
   ]
  },
  {
   "cell_type": "code",
   "execution_count": 120,
   "metadata": {},
   "outputs": [
    {
     "output_type": "execute_result",
     "data": {
      "text/plain": [
       "   projectName                             projectID          option1  \\\n",
       "0      wqeaafd  d4e74b50-6b07-4bb2-9be7-af7f52e4947d             Food   \n",
       "1      wqeaafd  d4e74b50-6b07-4bb2-9be7-af7f52e4947d             Food   \n",
       "2      wqeaafd  d4e74b50-6b07-4bb2-9be7-af7f52e4947d             Food   \n",
       "3      wqeaafd  d4e74b50-6b07-4bb2-9be7-af7f52e4947d             Food   \n",
       "4      wqeaafd  d4e74b50-6b07-4bb2-9be7-af7f52e4947d             Food   \n",
       "5      wqeaafd  d4e74b50-6b07-4bb2-9be7-af7f52e4947d             Feed   \n",
       "6      wqeaafd  d4e74b50-6b07-4bb2-9be7-af7f52e4947d             Feed   \n",
       "7      wqeaafd  d4e74b50-6b07-4bb2-9be7-af7f52e4947d             Feed   \n",
       "8      wqeaafd  d4e74b50-6b07-4bb2-9be7-af7f52e4947d             Feed   \n",
       "9      wqeaafd  d4e74b50-6b07-4bb2-9be7-af7f52e4947d           Income   \n",
       "10     wqeaafd  d4e74b50-6b07-4bb2-9be7-af7f52e4947d           Income   \n",
       "11     wqeaafd  d4e74b50-6b07-4bb2-9be7-af7f52e4947d           Income   \n",
       "12     wqeaafd  d4e74b50-6b07-4bb2-9be7-af7f52e4947d  Erosion Control   \n",
       "13     wqeaafd  d4e74b50-6b07-4bb2-9be7-af7f52e4947d  Erosion Control   \n",
       "14     wqeaafd  d4e74b50-6b07-4bb2-9be7-af7f52e4947d             Fuel   \n",
       "0    Project 2  d4e74b50-6b07-4bb2-9be7-af7f52e4947d             Food   \n",
       "1    Project 2  d4e74b50-6b07-4bb2-9be7-af7f52e4947d             Food   \n",
       "2    Project 2  d4e74b50-6b07-4bb2-9be7-af7f52e4947d             Food   \n",
       "3    Project 2  d4e74b50-6b07-4bb2-9be7-af7f52e4947d             Food   \n",
       "4    Project 2  d4e74b50-6b07-4bb2-9be7-af7f52e4947d             Food   \n",
       "5    Project 2  d4e74b50-6b07-4bb2-9be7-af7f52e4947d             Feed   \n",
       "6    Project 2  d4e74b50-6b07-4bb2-9be7-af7f52e4947d             Feed   \n",
       "7    Project 2  d4e74b50-6b07-4bb2-9be7-af7f52e4947d             Feed   \n",
       "8    Project 2  d4e74b50-6b07-4bb2-9be7-af7f52e4947d             Feed   \n",
       "9    Project 2  d4e74b50-6b07-4bb2-9be7-af7f52e4947d           Income   \n",
       "10   Project 2  d4e74b50-6b07-4bb2-9be7-af7f52e4947d           Income   \n",
       "11   Project 2  d4e74b50-6b07-4bb2-9be7-af7f52e4947d           Income   \n",
       "12   Project 2  d4e74b50-6b07-4bb2-9be7-af7f52e4947d  Erosion Control   \n",
       "13   Project 2  d4e74b50-6b07-4bb2-9be7-af7f52e4947d  Erosion Control   \n",
       "14   Project 2  d4e74b50-6b07-4bb2-9be7-af7f52e4947d             Fuel   \n",
       "0    Project 3  9c824f39-779c-446b-8d36-3f114fcdfeb9             Food   \n",
       "1    Project 3  9c824f39-779c-446b-8d36-3f114fcdfeb9             Food   \n",
       "2    Project 3  9c824f39-779c-446b-8d36-3f114fcdfeb9             Food   \n",
       "3    Project 3  9c824f39-779c-446b-8d36-3f114fcdfeb9             Food   \n",
       "4    Project 3  9c824f39-779c-446b-8d36-3f114fcdfeb9             Food   \n",
       "5    Project 3  9c824f39-779c-446b-8d36-3f114fcdfeb9             Feed   \n",
       "6    Project 3  9c824f39-779c-446b-8d36-3f114fcdfeb9             Feed   \n",
       "7    Project 3  9c824f39-779c-446b-8d36-3f114fcdfeb9             Feed   \n",
       "8    Project 3  9c824f39-779c-446b-8d36-3f114fcdfeb9             Feed   \n",
       "9    Project 3  9c824f39-779c-446b-8d36-3f114fcdfeb9           Income   \n",
       "10   Project 3  9c824f39-779c-446b-8d36-3f114fcdfeb9           Income   \n",
       "11   Project 3  9c824f39-779c-446b-8d36-3f114fcdfeb9           Income   \n",
       "12   Project 3  9c824f39-779c-446b-8d36-3f114fcdfeb9  Erosion Control   \n",
       "13   Project 3  9c824f39-779c-446b-8d36-3f114fcdfeb9  Erosion Control   \n",
       "14   Project 3  9c824f39-779c-446b-8d36-3f114fcdfeb9             Fuel   \n",
       "\n",
       "            option2       maleChoice     femaleChoice  \n",
       "0              Feed             Feed             Feed  \n",
       "1            Income             Food             Food  \n",
       "2   Erosion Control             Food  Erosion Control  \n",
       "3              Fuel             Fuel             Food  \n",
       "4    Soil Fertility             Food   Soil Fertility  \n",
       "5            Income           Income             Feed  \n",
       "6   Erosion Control             Feed  Erosion Control  \n",
       "7              Fuel             Fuel             Fuel  \n",
       "8    Soil Fertility   Soil Fertility   Soil Fertility  \n",
       "9   Erosion Control           Income  Erosion Control  \n",
       "10             Fuel           Income             Fuel  \n",
       "11   Soil Fertility   Soil Fertility           Income  \n",
       "12             Fuel             Fuel             Fuel  \n",
       "13   Soil Fertility   Soil Fertility   Soil Fertility  \n",
       "14   Soil Fertility             Fuel             Fuel  \n",
       "0              Feed             Feed             Food  \n",
       "1            Income           Income             Food  \n",
       "2   Erosion Control  Erosion Control             Food  \n",
       "3              Fuel             Fuel             Fuel  \n",
       "4    Soil Fertility   Soil Fertility   Soil Fertility  \n",
       "5            Income             Feed             Feed  \n",
       "6   Erosion Control             Feed             Feed  \n",
       "7              Fuel             Fuel             Fuel  \n",
       "8    Soil Fertility   Soil Fertility   Soil Fertility  \n",
       "9   Erosion Control           Income  Erosion Control  \n",
       "10             Fuel           Income             Fuel  \n",
       "11   Soil Fertility   Soil Fertility           Income  \n",
       "12             Fuel             Fuel             Fuel  \n",
       "13   Soil Fertility   Soil Fertility   Soil Fertility  \n",
       "14   Soil Fertility             Fuel             Fuel  \n",
       "0              Feed             Food             Feed  \n",
       "1            Income             Food             Food  \n",
       "2   Erosion Control  Erosion Control             Food  \n",
       "3              Fuel             Food             Food  \n",
       "4    Soil Fertility             Food   Soil Fertility  \n",
       "5            Income           Income             Feed  \n",
       "6   Erosion Control             Feed             Feed  \n",
       "7              Fuel             Feed             Fuel  \n",
       "8    Soil Fertility             Feed             Feed  \n",
       "9   Erosion Control           Income           Income  \n",
       "10             Fuel           Income           Income  \n",
       "11   Soil Fertility   Soil Fertility           Income  \n",
       "12             Fuel  Erosion Control             Fuel  \n",
       "13   Soil Fertility  Erosion Control  Erosion Control  \n",
       "14   Soil Fertility             Fuel             Fuel  "
      ],
      "text/html": "<div>\n<style scoped>\n    .dataframe tbody tr th:only-of-type {\n        vertical-align: middle;\n    }\n\n    .dataframe tbody tr th {\n        vertical-align: top;\n    }\n\n    .dataframe thead th {\n        text-align: right;\n    }\n</style>\n<table border=\"1\" class=\"dataframe\">\n  <thead>\n    <tr style=\"text-align: right;\">\n      <th></th>\n      <th>projectName</th>\n      <th>projectID</th>\n      <th>option1</th>\n      <th>option2</th>\n      <th>maleChoice</th>\n      <th>femaleChoice</th>\n    </tr>\n  </thead>\n  <tbody>\n    <tr>\n      <th>0</th>\n      <td>wqeaafd</td>\n      <td>d4e74b50-6b07-4bb2-9be7-af7f52e4947d</td>\n      <td>Food</td>\n      <td>Feed</td>\n      <td>Feed</td>\n      <td>Feed</td>\n    </tr>\n    <tr>\n      <th>1</th>\n      <td>wqeaafd</td>\n      <td>d4e74b50-6b07-4bb2-9be7-af7f52e4947d</td>\n      <td>Food</td>\n      <td>Income</td>\n      <td>Food</td>\n      <td>Food</td>\n    </tr>\n    <tr>\n      <th>2</th>\n      <td>wqeaafd</td>\n      <td>d4e74b50-6b07-4bb2-9be7-af7f52e4947d</td>\n      <td>Food</td>\n      <td>Erosion Control</td>\n      <td>Food</td>\n      <td>Erosion Control</td>\n    </tr>\n    <tr>\n      <th>3</th>\n      <td>wqeaafd</td>\n      <td>d4e74b50-6b07-4bb2-9be7-af7f52e4947d</td>\n      <td>Food</td>\n      <td>Fuel</td>\n      <td>Fuel</td>\n      <td>Food</td>\n    </tr>\n    <tr>\n      <th>4</th>\n      <td>wqeaafd</td>\n      <td>d4e74b50-6b07-4bb2-9be7-af7f52e4947d</td>\n      <td>Food</td>\n      <td>Soil Fertility</td>\n      <td>Food</td>\n      <td>Soil Fertility</td>\n    </tr>\n    <tr>\n      <th>5</th>\n      <td>wqeaafd</td>\n      <td>d4e74b50-6b07-4bb2-9be7-af7f52e4947d</td>\n      <td>Feed</td>\n      <td>Income</td>\n      <td>Income</td>\n      <td>Feed</td>\n    </tr>\n    <tr>\n      <th>6</th>\n      <td>wqeaafd</td>\n      <td>d4e74b50-6b07-4bb2-9be7-af7f52e4947d</td>\n      <td>Feed</td>\n      <td>Erosion Control</td>\n      <td>Feed</td>\n      <td>Erosion Control</td>\n    </tr>\n    <tr>\n      <th>7</th>\n      <td>wqeaafd</td>\n      <td>d4e74b50-6b07-4bb2-9be7-af7f52e4947d</td>\n      <td>Feed</td>\n      <td>Fuel</td>\n      <td>Fuel</td>\n      <td>Fuel</td>\n    </tr>\n    <tr>\n      <th>8</th>\n      <td>wqeaafd</td>\n      <td>d4e74b50-6b07-4bb2-9be7-af7f52e4947d</td>\n      <td>Feed</td>\n      <td>Soil Fertility</td>\n      <td>Soil Fertility</td>\n      <td>Soil Fertility</td>\n    </tr>\n    <tr>\n      <th>9</th>\n      <td>wqeaafd</td>\n      <td>d4e74b50-6b07-4bb2-9be7-af7f52e4947d</td>\n      <td>Income</td>\n      <td>Erosion Control</td>\n      <td>Income</td>\n      <td>Erosion Control</td>\n    </tr>\n    <tr>\n      <th>10</th>\n      <td>wqeaafd</td>\n      <td>d4e74b50-6b07-4bb2-9be7-af7f52e4947d</td>\n      <td>Income</td>\n      <td>Fuel</td>\n      <td>Income</td>\n      <td>Fuel</td>\n    </tr>\n    <tr>\n      <th>11</th>\n      <td>wqeaafd</td>\n      <td>d4e74b50-6b07-4bb2-9be7-af7f52e4947d</td>\n      <td>Income</td>\n      <td>Soil Fertility</td>\n      <td>Soil Fertility</td>\n      <td>Income</td>\n    </tr>\n    <tr>\n      <th>12</th>\n      <td>wqeaafd</td>\n      <td>d4e74b50-6b07-4bb2-9be7-af7f52e4947d</td>\n      <td>Erosion Control</td>\n      <td>Fuel</td>\n      <td>Fuel</td>\n      <td>Fuel</td>\n    </tr>\n    <tr>\n      <th>13</th>\n      <td>wqeaafd</td>\n      <td>d4e74b50-6b07-4bb2-9be7-af7f52e4947d</td>\n      <td>Erosion Control</td>\n      <td>Soil Fertility</td>\n      <td>Soil Fertility</td>\n      <td>Soil Fertility</td>\n    </tr>\n    <tr>\n      <th>14</th>\n      <td>wqeaafd</td>\n      <td>d4e74b50-6b07-4bb2-9be7-af7f52e4947d</td>\n      <td>Fuel</td>\n      <td>Soil Fertility</td>\n      <td>Fuel</td>\n      <td>Fuel</td>\n    </tr>\n    <tr>\n      <th>0</th>\n      <td>Project 2</td>\n      <td>d4e74b50-6b07-4bb2-9be7-af7f52e4947d</td>\n      <td>Food</td>\n      <td>Feed</td>\n      <td>Feed</td>\n      <td>Food</td>\n    </tr>\n    <tr>\n      <th>1</th>\n      <td>Project 2</td>\n      <td>d4e74b50-6b07-4bb2-9be7-af7f52e4947d</td>\n      <td>Food</td>\n      <td>Income</td>\n      <td>Income</td>\n      <td>Food</td>\n    </tr>\n    <tr>\n      <th>2</th>\n      <td>Project 2</td>\n      <td>d4e74b50-6b07-4bb2-9be7-af7f52e4947d</td>\n      <td>Food</td>\n      <td>Erosion Control</td>\n      <td>Erosion Control</td>\n      <td>Food</td>\n    </tr>\n    <tr>\n      <th>3</th>\n      <td>Project 2</td>\n      <td>d4e74b50-6b07-4bb2-9be7-af7f52e4947d</td>\n      <td>Food</td>\n      <td>Fuel</td>\n      <td>Fuel</td>\n      <td>Fuel</td>\n    </tr>\n    <tr>\n      <th>4</th>\n      <td>Project 2</td>\n      <td>d4e74b50-6b07-4bb2-9be7-af7f52e4947d</td>\n      <td>Food</td>\n      <td>Soil Fertility</td>\n      <td>Soil Fertility</td>\n      <td>Soil Fertility</td>\n    </tr>\n    <tr>\n      <th>5</th>\n      <td>Project 2</td>\n      <td>d4e74b50-6b07-4bb2-9be7-af7f52e4947d</td>\n      <td>Feed</td>\n      <td>Income</td>\n      <td>Feed</td>\n      <td>Feed</td>\n    </tr>\n    <tr>\n      <th>6</th>\n      <td>Project 2</td>\n      <td>d4e74b50-6b07-4bb2-9be7-af7f52e4947d</td>\n      <td>Feed</td>\n      <td>Erosion Control</td>\n      <td>Feed</td>\n      <td>Feed</td>\n    </tr>\n    <tr>\n      <th>7</th>\n      <td>Project 2</td>\n      <td>d4e74b50-6b07-4bb2-9be7-af7f52e4947d</td>\n      <td>Feed</td>\n      <td>Fuel</td>\n      <td>Fuel</td>\n      <td>Fuel</td>\n    </tr>\n    <tr>\n      <th>8</th>\n      <td>Project 2</td>\n      <td>d4e74b50-6b07-4bb2-9be7-af7f52e4947d</td>\n      <td>Feed</td>\n      <td>Soil Fertility</td>\n      <td>Soil Fertility</td>\n      <td>Soil Fertility</td>\n    </tr>\n    <tr>\n      <th>9</th>\n      <td>Project 2</td>\n      <td>d4e74b50-6b07-4bb2-9be7-af7f52e4947d</td>\n      <td>Income</td>\n      <td>Erosion Control</td>\n      <td>Income</td>\n      <td>Erosion Control</td>\n    </tr>\n    <tr>\n      <th>10</th>\n      <td>Project 2</td>\n      <td>d4e74b50-6b07-4bb2-9be7-af7f52e4947d</td>\n      <td>Income</td>\n      <td>Fuel</td>\n      <td>Income</td>\n      <td>Fuel</td>\n    </tr>\n    <tr>\n      <th>11</th>\n      <td>Project 2</td>\n      <td>d4e74b50-6b07-4bb2-9be7-af7f52e4947d</td>\n      <td>Income</td>\n      <td>Soil Fertility</td>\n      <td>Soil Fertility</td>\n      <td>Income</td>\n    </tr>\n    <tr>\n      <th>12</th>\n      <td>Project 2</td>\n      <td>d4e74b50-6b07-4bb2-9be7-af7f52e4947d</td>\n      <td>Erosion Control</td>\n      <td>Fuel</td>\n      <td>Fuel</td>\n      <td>Fuel</td>\n    </tr>\n    <tr>\n      <th>13</th>\n      <td>Project 2</td>\n      <td>d4e74b50-6b07-4bb2-9be7-af7f52e4947d</td>\n      <td>Erosion Control</td>\n      <td>Soil Fertility</td>\n      <td>Soil Fertility</td>\n      <td>Soil Fertility</td>\n    </tr>\n    <tr>\n      <th>14</th>\n      <td>Project 2</td>\n      <td>d4e74b50-6b07-4bb2-9be7-af7f52e4947d</td>\n      <td>Fuel</td>\n      <td>Soil Fertility</td>\n      <td>Fuel</td>\n      <td>Fuel</td>\n    </tr>\n    <tr>\n      <th>0</th>\n      <td>Project 3</td>\n      <td>9c824f39-779c-446b-8d36-3f114fcdfeb9</td>\n      <td>Food</td>\n      <td>Feed</td>\n      <td>Food</td>\n      <td>Feed</td>\n    </tr>\n    <tr>\n      <th>1</th>\n      <td>Project 3</td>\n      <td>9c824f39-779c-446b-8d36-3f114fcdfeb9</td>\n      <td>Food</td>\n      <td>Income</td>\n      <td>Food</td>\n      <td>Food</td>\n    </tr>\n    <tr>\n      <th>2</th>\n      <td>Project 3</td>\n      <td>9c824f39-779c-446b-8d36-3f114fcdfeb9</td>\n      <td>Food</td>\n      <td>Erosion Control</td>\n      <td>Erosion Control</td>\n      <td>Food</td>\n    </tr>\n    <tr>\n      <th>3</th>\n      <td>Project 3</td>\n      <td>9c824f39-779c-446b-8d36-3f114fcdfeb9</td>\n      <td>Food</td>\n      <td>Fuel</td>\n      <td>Food</td>\n      <td>Food</td>\n    </tr>\n    <tr>\n      <th>4</th>\n      <td>Project 3</td>\n      <td>9c824f39-779c-446b-8d36-3f114fcdfeb9</td>\n      <td>Food</td>\n      <td>Soil Fertility</td>\n      <td>Food</td>\n      <td>Soil Fertility</td>\n    </tr>\n    <tr>\n      <th>5</th>\n      <td>Project 3</td>\n      <td>9c824f39-779c-446b-8d36-3f114fcdfeb9</td>\n      <td>Feed</td>\n      <td>Income</td>\n      <td>Income</td>\n      <td>Feed</td>\n    </tr>\n    <tr>\n      <th>6</th>\n      <td>Project 3</td>\n      <td>9c824f39-779c-446b-8d36-3f114fcdfeb9</td>\n      <td>Feed</td>\n      <td>Erosion Control</td>\n      <td>Feed</td>\n      <td>Feed</td>\n    </tr>\n    <tr>\n      <th>7</th>\n      <td>Project 3</td>\n      <td>9c824f39-779c-446b-8d36-3f114fcdfeb9</td>\n      <td>Feed</td>\n      <td>Fuel</td>\n      <td>Feed</td>\n      <td>Fuel</td>\n    </tr>\n    <tr>\n      <th>8</th>\n      <td>Project 3</td>\n      <td>9c824f39-779c-446b-8d36-3f114fcdfeb9</td>\n      <td>Feed</td>\n      <td>Soil Fertility</td>\n      <td>Feed</td>\n      <td>Feed</td>\n    </tr>\n    <tr>\n      <th>9</th>\n      <td>Project 3</td>\n      <td>9c824f39-779c-446b-8d36-3f114fcdfeb9</td>\n      <td>Income</td>\n      <td>Erosion Control</td>\n      <td>Income</td>\n      <td>Income</td>\n    </tr>\n    <tr>\n      <th>10</th>\n      <td>Project 3</td>\n      <td>9c824f39-779c-446b-8d36-3f114fcdfeb9</td>\n      <td>Income</td>\n      <td>Fuel</td>\n      <td>Income</td>\n      <td>Income</td>\n    </tr>\n    <tr>\n      <th>11</th>\n      <td>Project 3</td>\n      <td>9c824f39-779c-446b-8d36-3f114fcdfeb9</td>\n      <td>Income</td>\n      <td>Soil Fertility</td>\n      <td>Soil Fertility</td>\n      <td>Income</td>\n    </tr>\n    <tr>\n      <th>12</th>\n      <td>Project 3</td>\n      <td>9c824f39-779c-446b-8d36-3f114fcdfeb9</td>\n      <td>Erosion Control</td>\n      <td>Fuel</td>\n      <td>Erosion Control</td>\n      <td>Fuel</td>\n    </tr>\n    <tr>\n      <th>13</th>\n      <td>Project 3</td>\n      <td>9c824f39-779c-446b-8d36-3f114fcdfeb9</td>\n      <td>Erosion Control</td>\n      <td>Soil Fertility</td>\n      <td>Erosion Control</td>\n      <td>Erosion Control</td>\n    </tr>\n    <tr>\n      <th>14</th>\n      <td>Project 3</td>\n      <td>9c824f39-779c-446b-8d36-3f114fcdfeb9</td>\n      <td>Fuel</td>\n      <td>Soil Fertility</td>\n      <td>Fuel</td>\n      <td>Fuel</td>\n    </tr>\n  </tbody>\n</table>\n</div>"
     },
     "metadata": {},
     "execution_count": 120
    }
   ],
   "source": [
    "pairWiseSelectionsAllProjects(projects=allProjects)\n"
   ]
  },
  {
   "source": [
    "### Averages"
   ],
   "cell_type": "markdown",
   "metadata": {}
  },
  {
   "cell_type": "code",
   "execution_count": 128,
   "metadata": {},
   "outputs": [],
   "source": [
    "def pairWiseSummaryScores(project):\n",
    "    projectID = project[\"projectID\"]\n",
    "    projectName = project[\"rawdata\"][\"projectInfo\"][\"projectName\"]\n",
    "    maleTotals = project[\"rawdata\"][\"pairWiseScores\"][\"male\"][\"totals\"]\n",
    "    femaleTotals = project[\"rawdata\"][\"pairWiseScores\"][\"female\"][\"totals\"]\n",
    "    averages = project[\"rawdata\"][\"pairWiseScores\"][\"averages\"]\n",
    "\n",
    "\n",
    "    pairWiseAverages = []\n",
    "    for scoreIndex in range(0,len(maleTotals)):\n",
    "        scoresToAppend = {\n",
    "            \"projectName\":projectName,\n",
    "            \"projectID\":projectID,\n",
    "            \"attribute\": maleTotals[scoreIndex][\"attribute\"][\"name\"],\n",
    "            \"countMale\": maleTotals[scoreIndex][\"value\"],\n",
    "            \"countFemale\": femaleTotals[scoreIndex][\"value\"],\n",
    "            \"average\": averages[scoreIndex][\"value\"],\n",
    "        }\n",
    "        pairWiseAverages.append(scoresToAppend)\n",
    "\n",
    "    return pd.DataFrame(pairWiseAverages)\n",
    "\n",
    "def pairWiseSelectionSummaryAllProjects(projects):\n",
    "    if len(projects)==1:\n",
    "        return pairWiseSummaryScores(projects)\n",
    "    if len(projects)>1:\n",
    "        pairWiseSummaryScoresDF=pairWiseSummaryScores(projects[0])\n",
    "        for project in projects[1:]:\n",
    "            pairWiseSummaryScoresDF = pairWiseSummaryScoresDF.append(pairWiseSummaryScores(project))\n",
    "    return pairWiseSummaryScoresDF\n"
   ]
  },
  {
   "cell_type": "code",
   "execution_count": 129,
   "metadata": {},
   "outputs": [
    {
     "output_type": "execute_result",
     "data": {
      "text/plain": [
       "  projectName                             projectID        attribute  \\\n",
       "0     wqeaafd  d4e74b50-6b07-4bb2-9be7-af7f52e4947d             Food   \n",
       "1     wqeaafd  d4e74b50-6b07-4bb2-9be7-af7f52e4947d             Feed   \n",
       "2     wqeaafd  d4e74b50-6b07-4bb2-9be7-af7f52e4947d           Income   \n",
       "3     wqeaafd  d4e74b50-6b07-4bb2-9be7-af7f52e4947d  Erosion Control   \n",
       "4     wqeaafd  d4e74b50-6b07-4bb2-9be7-af7f52e4947d             Fuel   \n",
       "5     wqeaafd  d4e74b50-6b07-4bb2-9be7-af7f52e4947d   Soil Fertility   \n",
       "0   Project 2  d4e74b50-6b07-4bb2-9be7-af7f52e4947d             Food   \n",
       "1   Project 2  d4e74b50-6b07-4bb2-9be7-af7f52e4947d             Feed   \n",
       "2   Project 2  d4e74b50-6b07-4bb2-9be7-af7f52e4947d           Income   \n",
       "3   Project 2  d4e74b50-6b07-4bb2-9be7-af7f52e4947d  Erosion Control   \n",
       "4   Project 2  d4e74b50-6b07-4bb2-9be7-af7f52e4947d             Fuel   \n",
       "5   Project 2  d4e74b50-6b07-4bb2-9be7-af7f52e4947d   Soil Fertility   \n",
       "0   Project 3  9c824f39-779c-446b-8d36-3f114fcdfeb9             Food   \n",
       "1   Project 3  9c824f39-779c-446b-8d36-3f114fcdfeb9             Feed   \n",
       "2   Project 3  9c824f39-779c-446b-8d36-3f114fcdfeb9           Income   \n",
       "3   Project 3  9c824f39-779c-446b-8d36-3f114fcdfeb9  Erosion Control   \n",
       "4   Project 3  9c824f39-779c-446b-8d36-3f114fcdfeb9             Fuel   \n",
       "5   Project 3  9c824f39-779c-446b-8d36-3f114fcdfeb9   Soil Fertility   \n",
       "\n",
       "   countMale  countFemale  average  \n",
       "0          3            2      2.5  \n",
       "1          2            2      2.0  \n",
       "2          3            1      2.0  \n",
       "3          0            3      1.5  \n",
       "4          4            4      4.0  \n",
       "5          3            3      3.0  \n",
       "0          0            3      1.5  \n",
       "1          3            2      2.5  \n",
       "2          3            1      2.0  \n",
       "3          1            1      1.0  \n",
       "4          4            5      4.5  \n",
       "5          4            3      3.5  \n",
       "0          4            3      3.5  \n",
       "1          3            4      3.5  \n",
       "2          3            3      3.0  \n",
       "3          3            1      2.0  \n",
       "4          1            3      2.0  \n",
       "5          1            1      1.0  "
      ],
      "text/html": "<div>\n<style scoped>\n    .dataframe tbody tr th:only-of-type {\n        vertical-align: middle;\n    }\n\n    .dataframe tbody tr th {\n        vertical-align: top;\n    }\n\n    .dataframe thead th {\n        text-align: right;\n    }\n</style>\n<table border=\"1\" class=\"dataframe\">\n  <thead>\n    <tr style=\"text-align: right;\">\n      <th></th>\n      <th>projectName</th>\n      <th>projectID</th>\n      <th>attribute</th>\n      <th>countMale</th>\n      <th>countFemale</th>\n      <th>average</th>\n    </tr>\n  </thead>\n  <tbody>\n    <tr>\n      <th>0</th>\n      <td>wqeaafd</td>\n      <td>d4e74b50-6b07-4bb2-9be7-af7f52e4947d</td>\n      <td>Food</td>\n      <td>3</td>\n      <td>2</td>\n      <td>2.5</td>\n    </tr>\n    <tr>\n      <th>1</th>\n      <td>wqeaafd</td>\n      <td>d4e74b50-6b07-4bb2-9be7-af7f52e4947d</td>\n      <td>Feed</td>\n      <td>2</td>\n      <td>2</td>\n      <td>2.0</td>\n    </tr>\n    <tr>\n      <th>2</th>\n      <td>wqeaafd</td>\n      <td>d4e74b50-6b07-4bb2-9be7-af7f52e4947d</td>\n      <td>Income</td>\n      <td>3</td>\n      <td>1</td>\n      <td>2.0</td>\n    </tr>\n    <tr>\n      <th>3</th>\n      <td>wqeaafd</td>\n      <td>d4e74b50-6b07-4bb2-9be7-af7f52e4947d</td>\n      <td>Erosion Control</td>\n      <td>0</td>\n      <td>3</td>\n      <td>1.5</td>\n    </tr>\n    <tr>\n      <th>4</th>\n      <td>wqeaafd</td>\n      <td>d4e74b50-6b07-4bb2-9be7-af7f52e4947d</td>\n      <td>Fuel</td>\n      <td>4</td>\n      <td>4</td>\n      <td>4.0</td>\n    </tr>\n    <tr>\n      <th>5</th>\n      <td>wqeaafd</td>\n      <td>d4e74b50-6b07-4bb2-9be7-af7f52e4947d</td>\n      <td>Soil Fertility</td>\n      <td>3</td>\n      <td>3</td>\n      <td>3.0</td>\n    </tr>\n    <tr>\n      <th>0</th>\n      <td>Project 2</td>\n      <td>d4e74b50-6b07-4bb2-9be7-af7f52e4947d</td>\n      <td>Food</td>\n      <td>0</td>\n      <td>3</td>\n      <td>1.5</td>\n    </tr>\n    <tr>\n      <th>1</th>\n      <td>Project 2</td>\n      <td>d4e74b50-6b07-4bb2-9be7-af7f52e4947d</td>\n      <td>Feed</td>\n      <td>3</td>\n      <td>2</td>\n      <td>2.5</td>\n    </tr>\n    <tr>\n      <th>2</th>\n      <td>Project 2</td>\n      <td>d4e74b50-6b07-4bb2-9be7-af7f52e4947d</td>\n      <td>Income</td>\n      <td>3</td>\n      <td>1</td>\n      <td>2.0</td>\n    </tr>\n    <tr>\n      <th>3</th>\n      <td>Project 2</td>\n      <td>d4e74b50-6b07-4bb2-9be7-af7f52e4947d</td>\n      <td>Erosion Control</td>\n      <td>1</td>\n      <td>1</td>\n      <td>1.0</td>\n    </tr>\n    <tr>\n      <th>4</th>\n      <td>Project 2</td>\n      <td>d4e74b50-6b07-4bb2-9be7-af7f52e4947d</td>\n      <td>Fuel</td>\n      <td>4</td>\n      <td>5</td>\n      <td>4.5</td>\n    </tr>\n    <tr>\n      <th>5</th>\n      <td>Project 2</td>\n      <td>d4e74b50-6b07-4bb2-9be7-af7f52e4947d</td>\n      <td>Soil Fertility</td>\n      <td>4</td>\n      <td>3</td>\n      <td>3.5</td>\n    </tr>\n    <tr>\n      <th>0</th>\n      <td>Project 3</td>\n      <td>9c824f39-779c-446b-8d36-3f114fcdfeb9</td>\n      <td>Food</td>\n      <td>4</td>\n      <td>3</td>\n      <td>3.5</td>\n    </tr>\n    <tr>\n      <th>1</th>\n      <td>Project 3</td>\n      <td>9c824f39-779c-446b-8d36-3f114fcdfeb9</td>\n      <td>Feed</td>\n      <td>3</td>\n      <td>4</td>\n      <td>3.5</td>\n    </tr>\n    <tr>\n      <th>2</th>\n      <td>Project 3</td>\n      <td>9c824f39-779c-446b-8d36-3f114fcdfeb9</td>\n      <td>Income</td>\n      <td>3</td>\n      <td>3</td>\n      <td>3.0</td>\n    </tr>\n    <tr>\n      <th>3</th>\n      <td>Project 3</td>\n      <td>9c824f39-779c-446b-8d36-3f114fcdfeb9</td>\n      <td>Erosion Control</td>\n      <td>3</td>\n      <td>1</td>\n      <td>2.0</td>\n    </tr>\n    <tr>\n      <th>4</th>\n      <td>Project 3</td>\n      <td>9c824f39-779c-446b-8d36-3f114fcdfeb9</td>\n      <td>Fuel</td>\n      <td>1</td>\n      <td>3</td>\n      <td>2.0</td>\n    </tr>\n    <tr>\n      <th>5</th>\n      <td>Project 3</td>\n      <td>9c824f39-779c-446b-8d36-3f114fcdfeb9</td>\n      <td>Soil Fertility</td>\n      <td>1</td>\n      <td>1</td>\n      <td>1.0</td>\n    </tr>\n  </tbody>\n</table>\n</div>"
     },
     "metadata": {},
     "execution_count": 129
    }
   ],
   "source": [
    "#pairWiseSummaryScores(project=allProjects[1])\n",
    "pairWiseSelectionSummaryAllProjects(projects=allProjects)\n"
   ]
  },
  {
   "source": [
    "## Participatory Matrix Scores"
   ],
   "cell_type": "markdown",
   "metadata": {}
  },
  {
   "cell_type": "code",
   "execution_count": 131,
   "metadata": {},
   "outputs": [],
   "source": [
    "project=allProjects[0]\n",
    "projectID = project[\"projectID\"]\n",
    "projectName = project[\"rawdata\"][\"projectInfo\"][\"projectName\"]\n",
    "farmers = project[\"rawdata\"][\"participatoryMatrixScores\"][\"farmers\"]"
   ]
  },
  {
   "cell_type": "code",
   "execution_count": 132,
   "metadata": {},
   "outputs": [
    {
     "output_type": "execute_result",
     "data": {
      "text/plain": [
       "[{'number': 1,\n",
       "  'name': 'Farmer 1 project1',\n",
       "  'gender': 'Male',\n",
       "  'typology': 'Low',\n",
       "  'selections': [{'name': 'Food', 'label': 'food', 'score': 2},\n",
       "   {'name': 'Feed', 'label': 'feed', 'score': 3},\n",
       "   {'name': 'Income', 'label': 'income', 'score': 5},\n",
       "   {'name': 'Erosion Control', 'label': 'erosion-control', 'score': 4},\n",
       "   {'name': 'Fuel', 'label': 'fuel', 'score': 2},\n",
       "   {'name': 'Soil Fertility', 'label': 'soil-fertility', 'score': 4}],\n",
       "  'total': 20},\n",
       " {'number': 2,\n",
       "  'name': 'Farmer 2 project 2',\n",
       "  'gender': 'Female',\n",
       "  'typology': 'Medium',\n",
       "  'selections': [{'name': 'Food', 'label': 'food', 'score': 2},\n",
       "   {'name': 'Feed', 'label': 'feed', 'score': 4},\n",
       "   {'name': 'Income', 'label': 'income', 'score': 5},\n",
       "   {'name': 'Erosion Control', 'label': 'erosion-control', 'score': 2},\n",
       "   {'name': 'Fuel', 'label': 'fuel', 'score': 4},\n",
       "   {'name': 'Soil Fertility', 'label': 'soil-fertility', 'score': 3}],\n",
       "  'total': 20},\n",
       " {'number': 3,\n",
       "  'name': 'Farmer 3 project 3',\n",
       "  'gender': 'Male',\n",
       "  'typology': 'High',\n",
       "  'selections': [{'name': 'Food', 'label': 'food', 'score': 8},\n",
       "   {'name': 'Feed', 'label': 'feed', 'score': 0},\n",
       "   {'name': 'Income', 'label': 'income', 'score': 4},\n",
       "   {'name': 'Erosion Control', 'label': 'erosion-control', 'score': 2},\n",
       "   {'name': 'Fuel', 'label': 'fuel', 'score': 5},\n",
       "   {'name': 'Soil Fertility', 'label': 'soil-fertility', 'score': 1}],\n",
       "  'total': 20},\n",
       " {'number': 4,\n",
       "  'name': 'Farmer 4 project 4',\n",
       "  'gender': 'Female',\n",
       "  'typology': 'High',\n",
       "  'selections': [{'name': 'Food', 'label': 'food', 'score': 3},\n",
       "   {'name': 'Feed', 'label': 'feed', 'score': 7},\n",
       "   {'name': 'Income', 'label': 'income', 'score': 1},\n",
       "   {'name': 'Erosion Control', 'label': 'erosion-control', 'score': 5},\n",
       "   {'name': 'Fuel', 'label': 'fuel', 'score': 1},\n",
       "   {'name': 'Soil Fertility', 'label': 'soil-fertility', 'score': 3}],\n",
       "  'total': 20}]"
      ]
     },
     "metadata": {},
     "execution_count": 132
    }
   ],
   "source": [
    "# Extracting farmer data\n",
    "\n",
    "farmers"
   ]
  },
  {
   "cell_type": "code",
   "execution_count": null,
   "metadata": {},
   "outputs": [],
   "source": []
  }
 ]
}