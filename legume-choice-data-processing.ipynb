{
 "metadata": {
  "language_info": {
   "codemirror_mode": {
    "name": "ipython",
    "version": 3
   },
   "file_extension": ".py",
   "mimetype": "text/x-python",
   "name": "python",
   "nbconvert_exporter": "python",
   "pygments_lexer": "ipython3",
   "version": "3.8.5-final"
  },
  "orig_nbformat": 2,
  "kernelspec": {
   "name": "python38564bit009b3aeb1fc3468499e8b7ce7fc7674d",
   "display_name": "Python 3.8.5 64-bit",
   "language": "python"
  }
 },
 "nbformat": 4,
 "nbformat_minor": 2,
 "cells": [
  {
   "cell_type": "code",
   "execution_count": 1,
   "metadata": {},
   "outputs": [],
   "source": [
    "os.chdir('/home/lgorman/Desktop/legumeCHOICE/data-processing') \n",
    "import pandas as pd \n",
    "import json\n",
    "import pymongo\n",
    "import os\n",
    "import shutil\n",
    "from dataProcessing import agroEcoData, contextData, legumeData, pairwiseData, participatoryMatrixData"
   ]
  },
  {
   "cell_type": "code",
   "execution_count": 2,
   "metadata": {},
   "outputs": [
    {
     "output_type": "stream",
     "name": "stdout",
     "text": [
      "legume-choice\n4\n"
     ]
    }
   ],
   "source": [
    "client = pymongo.MongoClient(\"localhost\", 27017)\n",
    "db = client[\"legume-choice\"]\n",
    "print(db.name)\n",
    "# Extracting the projects data\n",
    "projectsData =  db[\"projects\"]\n",
    "# Finding the number of projects\n",
    "print(projectsData.count_documents({}))\n",
    "\n",
    "\n",
    "# Extacting all projects\n",
    "allProjects = []\n",
    "for project in projectsData.find():\n",
    "        allProjects.append(project)\n",
    "projectIDs = [project[\"projectID\"] for project in allProjects]\n",
    "# Example querying from the dataset\n",
    "#allProjects[0][\"rawdata\"][\"agroEcoData\"]"
   ]
  },
  {
   "cell_type": "code",
   "execution_count": 3,
   "metadata": {},
   "outputs": [],
   "source": [
    "homepath = os.getenv('HOME')\n",
    "os.chdir(homepath) \n",
    "\n",
    "private_data_path = os.path.join(homepath, \"Desktop\", \"PrivateLegumeCHOICE\")\n",
    "\n",
    "public_data_path = os.path.join(homepath, \"Desktop\", \"PublicLegumeCHOICE\")\n",
    "public_data_individual_path = os.path.join(homepath, \"Desktop\", \"PublicLegumeCHOICE\", \"individualProjects\")\n",
    "public_data_assembled_path = os.path.join(homepath, \"Desktop\", \"PublicLegumeCHOICE\", \"aggregatedProjects\")\n",
    "\n",
    "if os.path.exists(private_data_path) is False:\n",
    "    os.mkdir(private_data_path)\n",
    "\n",
    "if os.path.exists(public_data_path) is False:\n",
    "    os.mkdir(private_data_path)\n",
    "\n",
    "# Individual data. Delete folder then recreate for all new calculations\n",
    "if os.path.exists(public_data_individual_path) is True:\n",
    "    shutil.rmtree(public_data_individual_path)\n",
    "    os.mkdir(public_data_individual_path)\n",
    "\n",
    "\n",
    "if os.path.exists(public_data_individual_path) is False:\n",
    "    os.mkdir(public_data_individual_path)\n",
    "\n",
    "# Aggregated data. Delete folder then recreate for all new calculations\n",
    "if os.path.exists(public_data_assembled_path) is True:\n",
    "    shutil.rmtree(public_data_assembled_path)\n",
    "    os.mkdir(public_data_assembled_path)\n",
    "\n",
    "if os.path.exists(public_data_assembled_path) is False:\n",
    "    os.mkdir(public_data_assembled_path)\n",
    "\n",
    "# Create an empty project directory for each individual project\n",
    "for projectID in projectIDs:\n",
    "    new_path = os.path.join(public_data_individual_path, projectID)\n",
    "    os.mkdir(new_path)"
   ]
  },
  {
   "source": [
    "## Single Project Information"
   ],
   "cell_type": "markdown",
   "metadata": {}
  },
  {
   "source": [
    "project = allProjects[0]\n",
    "for project in allProjects:\n",
    "\n",
    "    publicfolder = os.path.join(public_data_individual_path, project[\"projectID\"])\n",
    "    privatefile =  os.path.join(private_data_path, project[\"projectID\"]+\".json\")\n",
    "# AgroEco information is only one row, so have to transform\n",
    "    agroEcoSingleProj = pd.DataFrame(columns=list(agroEcoData.ExtractProjectAgroEcoData(project).keys()))\n",
    "    agroEcoSingleProj.loc[0]=agroEcoData.ExtractProjectAgroEcoData(project).values()\n",
    "\n",
    "\n",
    "    contextSingleProj = pd.DataFrame(contextData.projectContextScores(project=project))\n",
    "    pairwiseSelectionsSingleProj = pairwiseData.pairWiseSelectionsProject(project=project)\n",
    "    pairwideSummarySingleProj = pairwiseData.pairWiseSummaryScores(project=project)\n",
    "    participatoryMatrixSingleProj = participatoryMatrixData.participatoryMatrixScoresProject(project=project)\n",
    "    legumeDataSingleProj = legumeData.extractAllLegumeData(project=project)\n",
    "\n",
    "    agroEcoSingleProj.to_csv(os.path.join(publicfolder,\"agroEcoData.csv\"))\n",
    "    contextSingleProj.to_csv(os.path.join(publicfolder,\"ContextData.csv\"))\n",
    "    pairwiseSelectionsSingleProj.to_csv(os.path.join(publicfolder,\"PairwiseSelections.csv\"))\n",
    "    pairwideSummarySingleProj.to_csv(os.path.join(publicfolder,\"PairwiseSummaryScores.csv\"))\n",
    "    participatoryMatrixSingleProj.to_csv(os.path.join(publicfolder,\"ParticipatoryMatrixScores.csv\"))\n",
    "    legumeDataSingleProj.to_csv(os.path.join(publicfolder,\"LegumeResults.csv\"))\n",
    "\n",
    "    with open(privatefile, \"w\") as outfile:\n",
    "        JSONData = {\n",
    "            \"currentProject\":project[\"rawdata\"]\n",
    "        }\n",
    "        json.dump(JSONData,outfile, indent=4)\n",
    "\n",
    "\n",
    "\n",
    "\n",
    "    \n",
    "    \n",
    "\n"
   ],
   "cell_type": "code",
   "metadata": {},
   "execution_count": 4,
   "outputs": []
  },
  {
   "cell_type": "code",
   "execution_count": 5,
   "metadata": {},
   "outputs": [],
   "source": [
    "\n",
    "\n",
    "\n",
    "agroEcoAllProj = agroEcoData.ExtractAllAgroEcoData(allProjects)\n",
    "contextAllProj = contextData.ContextScoresAllProjects(projects=allProjects)\n",
    "pairwiseAllProj = pairwiseData.pairWiseSelectionsAllProjects(projects=allProjects)\n",
    "pairwideSummaryAllProj = pairwiseData.pairWiseSelectionSummaryAllProjects(projects=allProjects)\n",
    "participatoryMatrixAllProj = participatoryMatrixData.participatoryMatrixAllProjects(projects=allProjects)\n",
    "legumeDataAllProj = legumeData.legumeScoresAllProjects(projects=allProjects)\n",
    "\n",
    "agroEcoAllProj.to_csv(os.path.join(public_data_assembled_path,\"agroEcoData.csv\"))\n",
    "contextAllProj.to_csv(os.path.join(public_data_assembled_path,\"ContextData.csv\"))\n",
    "pairwiseAllProj.to_csv(os.path.join(public_data_assembled_path,\"PairwiseSelections.csv\"))\n",
    "pairwideSummaryAllProj.to_csv(os.path.join(public_data_assembled_path,\"PairwiseSummaryScores.csv\"))\n",
    "participatoryMatrixAllProj.to_csv(os.path.join(public_data_assembled_path,\"ParticipatoryMatrixScores.csv\"))\n",
    "legumeDataAllProj.to_csv(os.path.join(public_data_assembled_path,\"LegumeResults.csv\"))\n",
    "\n",
    "\n",
    "\n"
   ]
  },
  {
   "cell_type": "code",
   "execution_count": null,
   "metadata": {},
   "outputs": [],
   "source": []
  },
  {
   "cell_type": "code",
   "execution_count": null,
   "metadata": {},
   "outputs": [],
   "source": []
  },
  {
   "cell_type": "code",
   "execution_count": 14,
   "metadata": {},
   "outputs": [],
   "source": [
    "\n"
   ]
  },
  {
   "cell_type": "code",
   "execution_count": 15,
   "metadata": {},
   "outputs": [
    {
     "output_type": "stream",
     "name": "stdout",
     "text": [
      "/home/lgorman/Desktop/legumeCHOICE/data-processing\n"
     ]
    }
   ],
   "source": []
  },
  {
   "cell_type": "code",
   "execution_count": 16,
   "metadata": {},
   "outputs": [
    {
     "output_type": "error",
     "ename": "NameError",
     "evalue": "name '__file__' is not defined",
     "traceback": [
      "\u001b[0;31m---------------------------------------------------------------------------\u001b[0m",
      "\u001b[0;31mNameError\u001b[0m                                 Traceback (most recent call last)",
      "\u001b[0;32m<ipython-input-16-07563b5927f7>\u001b[0m in \u001b[0;36m<module>\u001b[0;34m\u001b[0m\n\u001b[0;32m----> 1\u001b[0;31m \u001b[0mprint\u001b[0m\u001b[0;34m(\u001b[0m\u001b[0mos\u001b[0m\u001b[0;34m.\u001b[0m\u001b[0mpath\u001b[0m\u001b[0;34m.\u001b[0m\u001b[0mdirname\u001b[0m\u001b[0;34m(\u001b[0m\u001b[0mos\u001b[0m\u001b[0;34m.\u001b[0m\u001b[0mpath\u001b[0m\u001b[0;34m.\u001b[0m\u001b[0mrealpath\u001b[0m\u001b[0;34m(\u001b[0m\u001b[0m__file__\u001b[0m\u001b[0;34m)\u001b[0m\u001b[0;34m)\u001b[0m\u001b[0;34m)\u001b[0m\u001b[0;34m\u001b[0m\u001b[0;34m\u001b[0m\u001b[0m\n\u001b[0m",
      "\u001b[0;31mNameError\u001b[0m: name '__file__' is not defined"
     ]
    }
   ],
   "source": []
  },
  {
   "cell_type": "code",
   "execution_count": 9,
   "metadata": {},
   "outputs": [],
   "source": []
  },
  {
   "cell_type": "code",
   "execution_count": null,
   "metadata": {},
   "outputs": [],
   "source": []
  }
 ]
}