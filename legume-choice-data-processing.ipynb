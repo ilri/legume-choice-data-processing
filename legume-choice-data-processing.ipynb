{
 "metadata": {
  "language_info": {
   "codemirror_mode": {
    "name": "ipython",
    "version": 3
   },
   "file_extension": ".py",
   "mimetype": "text/x-python",
   "name": "python",
   "nbconvert_exporter": "python",
   "pygments_lexer": "ipython3",
   "version": "3.8.5-final"
  },
  "orig_nbformat": 2,
  "kernelspec": {
   "name": "python38564bit009b3aeb1fc3468499e8b7ce7fc7674d",
   "display_name": "Python 3.8.5 64-bit",
   "language": "python"
  }
 },
 "nbformat": 4,
 "nbformat_minor": 2,
 "cells": [
  {
   "cell_type": "code",
   "execution_count": 64,
   "metadata": {},
   "outputs": [],
   "source": [
    "import pandas as pd \n",
    "import json\n",
    "import pymongo\n",
    "import os\n",
    "import shutil\n",
    "\n",
    "from datetime import datetime\n",
    "\n",
    "# Here a series of functions used to query the database are written, making it easier to convert them into\n",
    "# a simple tabular format.\n",
    "\n",
    "#os.chdir('/home/ubuntu/legumeCHOICE/data-processing') \n",
    "os.chdir(\"/home/lgorman/Desktop/legumeCHOICE/data-processing\")\n",
    "from dataProcessing import agroEcoData, contextData, legumeData, pairwiseData, participatoryMatrixData, projectProcessing"
   ]
  },
  {
   "cell_type": "code",
   "execution_count": 8,
   "metadata": {},
   "outputs": [
    {
     "output_type": "execute_result",
     "data": {
      "text/plain": [
       "<function dataProcessing.projectProcessing.getProjectDetails(project)>"
      ]
     },
     "metadata": {},
     "execution_count": 8
    }
   ],
   "source": []
  },
  {
   "cell_type": "code",
   "execution_count": 65,
   "metadata": {},
   "outputs": [],
   "source": [
    "client = pymongo.MongoClient(\"localhost\", 27017)\n",
    "db = client[\"legume-choice\"]\n",
    "# Extracting the projects data\n",
    "projectsData =  db[\"projects\"]\n",
    "\n",
    "# Extacting all projects into \"object\" format\n",
    "allProjects = []\n",
    "for project in projectsData.find():\n",
    "        allProjects.append(project)\n",
    "projectIDs = [project[\"projectID\"] for project in allProjects]"
   ]
  },
  {
   "cell_type": "code",
   "execution_count": 66,
   "metadata": {},
   "outputs": [
    {
     "output_type": "execute_result",
     "data": {
      "text/plain": [
       "5"
      ]
     },
     "metadata": {},
     "execution_count": 66
    }
   ],
   "source": [
    "len(allProjects)"
   ]
  },
  {
   "cell_type": "code",
   "execution_count": 67,
   "metadata": {},
   "outputs": [],
   "source": [
    "homepath = os.getenv('HOME')\n",
    "os.chdir(homepath) \n",
    "\n",
    "private_data_path = os.path.join(homepath, \"AdminLegumeCHOICE\")\n",
    "private_project_path=os.path.join(homepath, \"AdminLegumeCHOICE\",\"IndividualProjects\")\n",
    "private_aggregated_path=os.path.join(homepath, \"AdminLegumeCHOICE\",\"AggregatedProjectInformation\")\n",
    "\n",
    "public_data_path = os.path.join(homepath, \"LegumeCHOICE\")\n",
    "public_data_individual_path = os.path.join(homepath,\"LegumeCHOICE\", \"IndividualProjects\")\n",
    "public_data_assembled_path = os.path.join(homepath, \"LegumeCHOICE\", \"AggregatedProjects\")\n",
    "\n",
    "public_data_by_country = os.path.join(homepath, \"LegumeCHOICE\", \"ByCountry\")\n",
    "private_data_by_country = os.path.join(homepath, \"AdminLegumeCHOICE\", \"ByCountry\")\n",
    "\n",
    "\n",
    "# Removing all of the previous data\n",
    "# Private data\n",
    "if os.path.exists(private_data_path) is True:\n",
    "    shutil.rmtree(private_data_path)\n",
    "    #os.mkdir(private_data_path)\n",
    "\n",
    "# Public datasets\n",
    "if os.path.exists(public_data_path) is True:\n",
    "    shutil.rmtree(public_data_path)\n",
    "    #os.mkdir(public_data_individual_path)\n",
    "\n",
    "\n",
    "\n",
    "\n",
    "# Creating all empty directories\n",
    "# Private data\n",
    "if not os.path.exists(private_data_path):\n",
    "    os.mkdir(private_data_path)\n",
    "\n",
    "if not os.path.exists(private_project_path):\n",
    "    os.mkdir(private_project_path)\n",
    "\n",
    "if not os.path.exists(private_aggregated_path):\n",
    "    os.mkdir(private_aggregated_path)\n",
    "\n",
    "# Public dataests\n",
    "if not os.path.exists(public_data_path):\n",
    "    os.mkdir(public_data_path)\n",
    "\n",
    "# Public Individual datasets\n",
    "if not os.path.exists(public_data_individual_path):\n",
    "    os.mkdir(public_data_individual_path)\n",
    "\n",
    "# Public aggregated datasets    \n",
    "if not os.path.exists(public_data_assembled_path):\n",
    "    os.mkdir(public_data_assembled_path)\n",
    "\n",
    "if not os.path.exists(public_data_by_country):\n",
    "    os.mkdir(public_data_by_country)\n",
    "\n",
    "if not os.path.exists(private_data_by_country):\n",
    "    os.mkdir(private_data_by_country)\n",
    "    \n"
   ]
  },
  {
   "cell_type": "code",
   "execution_count": 68,
   "metadata": {},
   "outputs": [],
   "source": [
    "# Create an empty project directory for each individual project\n",
    "# Each folder name will be the same as the projectID\n",
    "for project in allProjects:\n",
    "    date=project[\"rawdata\"][\"projectSecret\"][\"dateAvailable\"]\n",
    "    date =date[0:19]\n",
    "    date = datetime.strptime(date, \"%Y-%m-%dT%H:%M:%S\")\n",
    "\n",
    "    if(datetime.now()>date):\n",
    "        public_path_new = os.path.join(public_data_individual_path, project[\"projectID\"])\n",
    "        os.mkdir(public_path_new)\n",
    "\n",
    "        private_path_new = os.path.join(private_project_path, project[\"projectID\"])\n",
    "        os.mkdir(private_path_new)\n",
    "\n",
    "    \n",
    "#--------------------------------------------------------------\n",
    "#--------------------------------------------------------------\n",
    "#LOOPING THROUGH INDIVIDUAL PROJECTS AND WRITING OUT THE NECESSARY FILES\n",
    "#----------------------------     ----------------------------------\n",
    "#--------------------------------------------------------------\n",
    "\n",
    "#project = allProjects[0]\n",
    "for project in allProjects:\n",
    "\n",
    "    date=project[\"rawdata\"][\"projectSecret\"][\"dateAvailable\"]\n",
    "    date =date[0:19]\n",
    "    date = datetime.strptime(date, \"%Y-%m-%dT%H:%M:%S\")\n",
    "\n",
    "    if(datetime.now()>date):\n",
    "\n",
    "        publicfolder = os.path.join(public_data_individual_path, project[\"projectID\"])\n",
    "        # AgroEco information is only one row, so have to transform\n",
    "        agroEcoSingleProj = pd.DataFrame(columns=list(agroEcoData.ExtractProjectAgroEcoData(project).keys()))\n",
    "        agroEcoSingleProj.loc[0]=agroEcoData.ExtractProjectAgroEcoData(project).values()\n",
    "\n",
    "\n",
    "        contextSingleProj = pd.DataFrame(contextData.projectContextScores(project=project))\n",
    "        pairwiseSelectionsSingleProj = pairwiseData.pairWiseSelectionsProject(project=project)\n",
    "        pairwideSummarySingleProj = pairwiseData.pairWiseSummaryScores(project=project)\n",
    "        participatoryMatrixSingleProj = participatoryMatrixData.participatoryMatrixScoresProject(project=project)\n",
    "        legumeDataSingleProj = legumeData.extractAllLegumeData(project=project)\n",
    "\n",
    "        agroEcoSingleProj.to_csv(os.path.join(publicfolder,\"agroEcoData.csv\"), index=False)\n",
    "        contextSingleProj.to_csv(os.path.join(publicfolder,\"ContextData.csv\"), index=False)\n",
    "        pairwiseSelectionsSingleProj.to_csv(os.path.join(publicfolder,\"PairwiseSelections.csv\"), index=False)\n",
    "        pairwideSummarySingleProj.to_csv(os.path.join(publicfolder,\"PairwiseSummaryScores.csv\"), index=False)\n",
    "        participatoryMatrixSingleProj.to_csv(os.path.join(publicfolder,\"ParticipatoryMatrixScores.csv\"), index=False)\n",
    "        legumeDataSingleProj.to_csv(os.path.join(publicfolder,\"LegumeResults.csv\"), index=False)\n",
    "\n",
    "        privatefolder=os.path.join(private_project_path, project[\"projectID\"])\n",
    "        privatefile =  os.path.join(privatefolder, \"rawdata.json\")\n",
    "        with open(privatefile, \"w\") as outfile:\n",
    "            JSONData = {\n",
    "                \"currentProject\":project[\"rawdata\"]\n",
    "            }\n",
    "            json.dump(JSONData,outfile, indent=4)\n",
    "        projectDetails = projectProcessing.getProjectDetails(project)\n",
    "        projectDetails.to_csv(os.path.join(privatefolder,\"projectInformation.csv\"), index=False)\n",
    "\n",
    "\n"
   ]
  },
  {
   "cell_type": "code",
   "execution_count": 74,
   "metadata": {},
   "outputs": [],
   "source": [
    "availableProjects = os.listdir(public_data_individual_path)\n",
    "\n",
    "publicSheetsToAggregate = [\"agroEcoData\",\"ContextData\",\"LegumeResults\",\"PairwiseSelections\",\"PairwiseSummaryScores\",\"ParticipatoryMatrixScores\"]\n",
    "\n",
    "privateSheetsToAggregate = [\"projectInformation\"]\n",
    "\n",
    "\n",
    "\n",
    "\n",
    "count=0\n",
    "for projectID in availableProjects:\n",
    "    count+=1\n",
    "    if (count==1):\n",
    "        publicProjectPath=os.path.join(public_data_individual_path,projectID)\n",
    "\n",
    "        agroEcoDatadf=pd.read_csv(os.path.join(publicProjectPath,\"agroEcoData.csv\"))\n",
    "        ContextDatadf=pd.read_csv(os.path.join(publicProjectPath,\"ContextData.csv\"))\n",
    "        LegumeResultsdf=pd.read_csv(os.path.join(publicProjectPath,\"LegumeResults.csv\"))\n",
    "        PairwiseSelectionsdf=pd.read_csv(os.path.join(publicProjectPath,\"PairwiseSelections.csv\"))\n",
    "        PairwiseSummaryScoresdf=pd.read_csv(os.path.join(publicProjectPath,\"PairwiseSummaryScores.csv\"))\n",
    "        ParticipatoryMatrixScoresdf=pd.read_csv(os.path.join(publicProjectPath,\"ParticipatoryMatrixScores.csv\"))\n",
    "\n",
    "        privateProjectPath=os.path.join(private_project_path,projectID)\n",
    "        projectInformationdf=pd.read_csv(os.path.join(privateProjectPath,\"projectInformation.csv\"))\n",
    "\n",
    "\n",
    "\n",
    "\n",
    "        # Make first dataframes\n",
    "\n",
    "    if (count>1):\n",
    "        # Merge Dataframes together\n",
    "        publicProjectPath=os.path.join(public_data_individual_path,projectID)\n",
    "\n",
    "        agroEcoDatadf = agroEcoDatadf.append(pd.read_csv(os.path.join(publicProjectPath,\"agroEcoData.csv\")), ignore_index=True)\n",
    "        ContextDatadf = ContextDatadf.append(pd.read_csv(os.path.join(publicProjectPath,\"ContextData.csv\")), ignore_index=True)\n",
    "        LegumeResultsdf = LegumeResultsdf.append(pd.read_csv(os.path.join(publicProjectPath,\"LegumeResults.csv\")), ignore_index=True)\n",
    "        PairwiseSelectionsdf = PairwiseSelectionsdf.append(pd.read_csv(os.path.join(publicProjectPath,\"PairwiseSelections.csv\")), ignore_index=True)\n",
    "        PairwiseSummaryScoresdf = PairwiseSummaryScoresdf.append(pd.read_csv(os.path.join(publicProjectPath,\"PairwiseSummaryScores.csv\")), ignore_index=True)\n",
    "        ParticipatoryMatrixScoresdf = ParticipatoryMatrixScoresdf.append(pd.read_csv(os.path.join(publicProjectPath,\"ParticipatoryMatrixScores.csv\")), ignore_index=True)\n",
    "\n",
    "        privateProjectPath=os.path.join(private_project_path,projectID)\n",
    "        projectInformationdf = projectInformationdf.append(pd.read_csv(os.path.join(privateProjectPath,\"projectInformation.csv\")), ignore_index=True)\n",
    "\n",
    "\n",
    "\n",
    "projectInformationdf.to_csv(os.path.join(private_aggregated_path,\"projectInformation.csv\"), index=False)\n",
    "\n",
    "agroEcoDatadf.to_csv(os.path.join(public_data_assembled_path,\"agroEcoData.csv\"), index=False)\n",
    "ContextDatadf.to_csv(os.path.join(public_data_assembled_path,\"ContextData.csv\"), index=False)\n",
    "LegumeResultsdf.to_csv(os.path.join(public_data_assembled_path,\"LegumeResults.csv\"), index=False)\n",
    "PairwiseSelectionsdf.to_csv(os.path.join(public_data_assembled_path,\"PairwiseSelections.csv\"), index=False)\n",
    "PairwiseSummaryScoresdf.to_csv(os.path.join(public_data_assembled_path,\"PairwiseSummaryScores.csv\"), index=False)\n",
    "ParticipatoryMatrixScoresdf.to_csv(os.path.join(public_data_assembled_path,\"ParticipatoryMatrixScores.csv\"), index=False)\n"
   ]
  },
  {
   "cell_type": "code",
   "execution_count": 63,
   "metadata": {},
   "outputs": [
    {
     "output_type": "execute_result",
     "data": {
      "text/plain": [
       "[]"
      ]
     },
     "metadata": {},
     "execution_count": 63
    }
   ],
   "source": []
  },
  {
   "cell_type": "code",
   "execution_count": 61,
   "metadata": {},
   "outputs": [
    {
     "output_type": "error",
     "ename": "NameError",
     "evalue": "name 'projectInformationdf' is not defined",
     "traceback": [
      "\u001b[0;31m---------------------------------------------------------------------------\u001b[0m",
      "\u001b[0;31mNameError\u001b[0m                                 Traceback (most recent call last)",
      "\u001b[0;32m<ipython-input-61-bb65ba658f07>\u001b[0m in \u001b[0;36m<module>\u001b[0;34m\u001b[0m\n\u001b[0;32m----> 1\u001b[0;31m \u001b[0mprojectInformationdf\u001b[0m\u001b[0;34m\u001b[0m\u001b[0;34m\u001b[0m\u001b[0m\n\u001b[0m",
      "\u001b[0;31mNameError\u001b[0m: name 'projectInformationdf' is not defined"
     ]
    }
   ],
   "source": []
  },
  {
   "cell_type": "code",
   "execution_count": 75,
   "metadata": {},
   "outputs": [],
   "source": [
    "public_data_by_country = os.path.join(homepath, \"LegumeCHOICE\", \"ByCountry\")\n",
    "private_data_by_country = os.path.join(homepath, \"AdminLegumeCHOICE\", \"ByCountry\")"
   ]
  },
  {
   "cell_type": "code",
   "execution_count": 76,
   "metadata": {},
   "outputs": [
    {
     "output_type": "error",
     "ename": "FileExistsError",
     "evalue": "[Errno 17] File exists: '/home/lgorman/LegumeCHOICE/ByCountry/Gibraltar'",
     "traceback": [
      "\u001b[0;31m---------------------------------------------------------------------------\u001b[0m",
      "\u001b[0;31mFileExistsError\u001b[0m                           Traceback (most recent call last)",
      "\u001b[0;32m<ipython-input-76-82cd91ece3bd>\u001b[0m in \u001b[0;36m<module>\u001b[0;34m\u001b[0m\n\u001b[1;32m      2\u001b[0m \u001b[0;32mfor\u001b[0m \u001b[0mcountry\u001b[0m \u001b[0;32min\u001b[0m \u001b[0mallCountries\u001b[0m\u001b[0;34m:\u001b[0m\u001b[0;34m\u001b[0m\u001b[0;34m\u001b[0m\u001b[0m\n\u001b[1;32m      3\u001b[0m     \u001b[0mpublic_path_new\u001b[0m \u001b[0;34m=\u001b[0m \u001b[0mos\u001b[0m\u001b[0;34m.\u001b[0m\u001b[0mpath\u001b[0m\u001b[0;34m.\u001b[0m\u001b[0mjoin\u001b[0m\u001b[0;34m(\u001b[0m\u001b[0mpublic_data_by_country\u001b[0m\u001b[0;34m,\u001b[0m \u001b[0mcountry\u001b[0m\u001b[0;34m)\u001b[0m\u001b[0;34m\u001b[0m\u001b[0;34m\u001b[0m\u001b[0m\n\u001b[0;32m----> 4\u001b[0;31m     \u001b[0mos\u001b[0m\u001b[0;34m.\u001b[0m\u001b[0mmkdir\u001b[0m\u001b[0;34m(\u001b[0m\u001b[0mpublic_path_new\u001b[0m\u001b[0;34m)\u001b[0m\u001b[0;34m\u001b[0m\u001b[0;34m\u001b[0m\u001b[0m\n\u001b[0m\u001b[1;32m      5\u001b[0m \u001b[0;34m\u001b[0m\u001b[0m\n\u001b[1;32m      6\u001b[0m     \u001b[0mprivate_path_new\u001b[0m \u001b[0;34m=\u001b[0m \u001b[0mos\u001b[0m\u001b[0;34m.\u001b[0m\u001b[0mpath\u001b[0m\u001b[0;34m.\u001b[0m\u001b[0mjoin\u001b[0m\u001b[0;34m(\u001b[0m\u001b[0mprivate_data_by_country\u001b[0m\u001b[0;34m,\u001b[0m \u001b[0mcountry\u001b[0m\u001b[0;34m)\u001b[0m\u001b[0;34m\u001b[0m\u001b[0;34m\u001b[0m\u001b[0m\n",
      "\u001b[0;31mFileExistsError\u001b[0m: [Errno 17] File exists: '/home/lgorman/LegumeCHOICE/ByCountry/Gibraltar'"
     ]
    }
   ],
   "source": [
    "allCountries=list(ParticipatoryMatrixScores[\"country\"].unique())\n",
    "for country in allCountries:\n",
    "    public_path_new = os.path.join(public_data_by_country, country)\n",
    "    os.mkdir(public_path_new)\n",
    "\n",
    "    private_path_new = os.path.join(private_data_by_country, country)\n",
    "    os.mkdir(private_path_new)\n"
   ]
  },
  {
   "cell_type": "code",
   "execution_count": 78,
   "metadata": {},
   "outputs": [],
   "source": [
    "\n",
    "for country in allCountries:\n",
    "\n",
    "    agroEcoData=pd.read_csv(os.path.join(public_data_assembled_path,\"agroEcoData.csv\"))\n",
    "    ContextData=pd.read_csv(os.path.join(public_data_assembled_path,\"ContextData.csv\"))\n",
    "    LegumeResults=pd.read_csv(os.path.join(public_data_assembled_path,\"LegumeResults.csv\"))\n",
    "    PairwiseSelections=pd.read_csv(os.path.join(public_data_assembled_path,\"PairwiseSelections.csv\"))\n",
    "    PairwiseSummaryScores=pd.read_csv(os.path.join(public_data_assembled_path,\"PairwiseSummaryScores.csv\"))\n",
    "    ParticipatoryMatrixScores=pd.read_csv(os.path.join(public_data_assembled_path,\"ParticipatoryMatrixScores.csv\"))\n",
    "    projectInformation=pd.read_csv(os.path.join(private_aggregated_path,\"projectInformation.csv\"))\n",
    "\n",
    "\n",
    "    agroEcoDataSubset = agroEcoData[\"country\"]==country\n",
    "    ContextDataSubset = ContextData[\"country\"]==country\n",
    "    LegumeResultsSubset = LegumeResults[\"country\"]==country\n",
    "    PairwiseSelectionsSubset = PairwiseSelections[\"country\"]==country\n",
    "    PairwiseSummaryScoresSubset = PairwiseSummaryScores[\"country\"]==country\n",
    "    ParticipatoryMatrixScoresSubset = ParticipatoryMatrixScores[\"country\"]==country\n",
    "    projectInformationSubset = projectInformation[\"country\"]==country\n",
    "\n",
    "    agroEcoDataSubset = agroEcoData.loc[agroEcoDataSubset,:]\n",
    "    ContextDataSubset = ContextData.loc[ContextDataSubset,:]\n",
    "    LegumeResultsSubset = LegumeResults.loc[LegumeResultsSubset,:]\n",
    "    PairwiseSelectionsSubset = PairwiseSelections.loc[PairwiseSelectionsSubset,:]\n",
    "    PairwiseSummaryScoresSubset = PairwiseSummaryScores.loc[PairwiseSummaryScoresSubset,:]\n",
    "    ParticipatoryMatrixScoresSubset = ParticipatoryMatrixScores.loc[ParticipatoryMatrixScoresSubset,:]\n",
    "    projectInformationSubset = projectInformation.loc[projectInformationSubset,:]\n",
    "\n",
    "\n",
    "\n",
    "    agroEcoDataSubset.to_csv(os.path.join(public_data_by_country,country,\"agroEcoData.csv\"), index=False)\n",
    "    ContextDataSubset.to_csv(os.path.join(public_data_by_country,country,\"ContextData.csv\"), index=False)\n",
    "    LegumeResultsSubset.to_csv(os.path.join(public_data_by_country,country,\"LegumeResults.csv\"), index=False)\n",
    "    PairwiseSelectionsSubset.to_csv(os.path.join(public_data_by_country,country,\"PairwiseSelections.csv\"), index=False)\n",
    "    PairwiseSummaryScoresSubset.to_csv(os.path.join(public_data_by_country,country,\"PairwiseSummaryScores.csv\"), index=False)\n",
    "    ParticipatoryMatrixScoresSubset.to_csv(os.path.join(public_data_by_country,country,\"ParticipatoryMatrixScores.csv\"), index=False)\n",
    "    projectInformationSubset.to_csv(os.path.join(private_data_by_country,country,\"projectInformation.csv\"), index=False)\n",
    "\n",
    "\n",
    "\n",
    "\n"
   ]
  },
  {
   "cell_type": "code",
   "execution_count": 57,
   "metadata": {},
   "outputs": [
    {
     "output_type": "execute_result",
     "data": {
      "text/plain": [
       "'/home/lgorman/LegumeCHOICE/AggregatedProjects'"
      ]
     },
     "metadata": {},
     "execution_count": 57
    }
   ],
   "source": []
  },
  {
   "cell_type": "code",
   "execution_count": null,
   "metadata": {},
   "outputs": [],
   "source": [
    "import FormatAllDaya"
   ]
  }
 ]
}