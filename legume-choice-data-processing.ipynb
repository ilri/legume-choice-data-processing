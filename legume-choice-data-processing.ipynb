{
 "metadata": {
  "language_info": {
   "codemirror_mode": {
    "name": "ipython",
    "version": 3
   },
   "file_extension": ".py",
   "mimetype": "text/x-python",
   "name": "python",
   "nbconvert_exporter": "python",
   "pygments_lexer": "ipython3",
   "version": "3.8.5-final"
  },
  "orig_nbformat": 2,
  "kernelspec": {
   "name": "python38564bit009b3aeb1fc3468499e8b7ce7fc7674d",
   "display_name": "Python 3.8.5 64-bit",
   "language": "python"
  }
 },
 "nbformat": 4,
 "nbformat_minor": 2,
 "cells": [
  {
   "cell_type": "code",
   "execution_count": 1,
   "metadata": {},
   "outputs": [],
   "source": [
    "import pandas as pd \n",
    "import pymongo\n",
    "from dataProcessing import agroEcoData, contextData, legumeData, pairwiseData, participatoryMatrixData"
   ]
  },
  {
   "source": [
    "## Connecting to DB"
   ],
   "cell_type": "markdown",
   "metadata": {}
  },
  {
   "cell_type": "code",
   "execution_count": 2,
   "metadata": {},
   "outputs": [
    {
     "output_type": "stream",
     "name": "stdout",
     "text": [
      "legume-choice\n3\n"
     ]
    }
   ],
   "source": [
    "client = pymongo.MongoClient(\"localhost\", 27017)\n",
    "db = client[\"legume-choice\"]\n",
    "print(db.name)\n",
    "# Extracting the projects data\n",
    "projectsData =  db[\"projects\"]\n",
    "# Finding the number of projects\n",
    "print(projectsData.count_documents({}))"
   ]
  },
  {
   "source": [
    "## Extracting Data"
   ],
   "cell_type": "markdown",
   "metadata": {}
  },
  {
   "cell_type": "code",
   "execution_count": 3,
   "metadata": {
    "tags": []
   },
   "outputs": [],
   "source": [
    "# Extacting all projects\n",
    "allProjects = []\n",
    "for project in projectsData.find():\n",
    "        allProjects.append(project)\n",
    "\n",
    "# Example querying from the dataset\n",
    "#allProjects[0][\"rawdata\"][\"agroEcoData\"]\n"
   ]
  },
  {
   "source": [
    "## Extracting Agro Ecological Scores for all Projects"
   ],
   "cell_type": "markdown",
   "metadata": {}
  },
  {
   "cell_type": "code",
   "execution_count": 6,
   "metadata": {},
   "outputs": [
    {
     "output_type": "execute_result",
     "data": {
      "text/plain": [
       "{'country': '',\n",
       " 'projectName': 'wqeaafd',\n",
       " 'projectID': 'd4e74b50-6b07-4bb2-9be7-af7f52e4947d',\n",
       " 'rainfall': 2175,\n",
       " 'temp': 14.5,\n",
       " 'alt': 1845,\n",
       " 'soilpH': 8.5}"
      ]
     },
     "metadata": {},
     "execution_count": 6
    }
   ],
   "source": [
    "# Tabular AgroEco scores\n",
    "\n",
    "# def ExtractProjectAgroEcoData(project):\n",
    "#     projectID =  project[\"projectID\"]\n",
    "#     projectName =  project[\"rawdata\"][\"projectInfo\"][\"projectName\"]\n",
    "#     country =  project[\"rawdata\"][\"projectInfo\"][\"country\"]\n",
    "#     agroEcoData = project[\"rawdata\"][\"agroEcoData\"][\"biofilters\"]\n",
    "\n",
    "#     row={\"country\":country,\"projectName\":projectName,\"projectID\":projectID,}\n",
    "\n",
    "\n",
    "#     for index in range(0,len(agroEcoData)):\n",
    "#         row[agroEcoData[index][\"label\"]]=agroEcoData[index][\"value\"]\n",
    "#     return row\n",
    "# def ExtractAllAgroEcoData(projects):\n",
    "#     agroEcoData=[]\n",
    "#     for project in projects:\n",
    "#         agroEcoData.append(ExtractProjectAgroEcoData(project=project))\n",
    "#     return pd.DataFrame(agroEcoData)\n",
    "\n",
    "\n",
    "\n",
    "agroEcoData.ExtractProjectAgroEcoData(allProjects[0])\n",
    "agroEcoData.ExtractAllAgroEcoData(allProjects)\n"
   ]
  },
  {
   "cell_type": "code",
   "execution_count": null,
   "metadata": {},
   "outputs": [],
   "source": [
    "agroEcoSingleProj = pd.DataFrame(columns=list(agroEcoData.ExtractProjectAgroEcoData(allProjects[0]).keys()))\n",
    "agroEcoSingleProj.loc[0]=agroEcoData.ExtractProjectAgroEcoData(allProjects[0]).values()\n",
    "agroEcoSingleProj"
   ]
  },
  {
   "source": [
    "## Extracting all Data for Context Scores"
   ],
   "cell_type": "markdown",
   "metadata": {}
  },
  {
   "cell_type": "code",
   "execution_count": null,
   "metadata": {},
   "outputs": [],
   "source": [
    "def subsetScoresByVariables(scores, attributeLabel, participantLabel, typologyLabel, average):\n",
    "\n",
    "    if (average==False):\n",
    "        for score in scores:\n",
    "            if (score[\"scoreType\"]==\"individual\" and \n",
    "            score[\"attribute\"][\"label\"]==attributeLabel and \n",
    "            score[\"participant\"][\"label\"]==participantLabel and \n",
    "            score[\"typology\"][\"label\"]==typologyLabel):\n",
    "                 return score[\"score\"]\n",
    "\n",
    "    if (average==True):\n",
    "        for score in scores:\n",
    "            if (score[\"scoreType\"]==\"average\" and \n",
    "            score[\"attribute\"][\"label\"]==attributeLabel): \n",
    "                return score[\"score\"]\n",
    "\n",
    "    raise ValueError(\"Did not identify correct subset\")\n",
    "    \n",
    "\n",
    "def ScoresForAllAttributes(scores, attributes, participant, typology, average):\n",
    "    listOfScores=[]\n",
    "    for attribute in attributes:\n",
    "        listOfScores.append(subsetScoresByVariables(scores=scores, \n",
    "        attributeLabel=attribute[\"label\"], \n",
    "        participantLabel=participant[\"label\"], \n",
    "        typologyLabel=typology[\"label\"], \n",
    "        average=average))\n",
    "\n",
    "    return listOfScores\n",
    "\n",
    "\n",
    "def projectContextScores(project):\n",
    "\n",
    "    # Initialising Variables\n",
    "    projectID =  project[\"projectID\"]\n",
    "    projectName =  project[\"rawdata\"][\"projectInfo\"][\"projectName\"]\n",
    "    country =  project[\"rawdata\"][\"projectInfo\"][\"country\"]\n",
    "\n",
    "\n",
    "    allScores = project[\"rawdata\"][\"contextScores\"][\"scores\"]\n",
    "    attributes = project[\"rawdata\"][\"contextScores\"][\"attributes\"]\n",
    "    participants = project[\"rawdata\"][\"contextScores\"][\"participants\"]\n",
    "    typologies = project[\"rawdata\"][\"contextScores\"][\"typologies\"]\n",
    "\n",
    "    # Creating column names for dataframe\n",
    "    typologyColumns = [ \"typ\"+typology[\"label\"] for typology in typologies]\n",
    "    participantColumns = [participant[\"label\"] for participant in participants]\n",
    "    allColumns = [typ+particip for typ in typologyColumns for particip in participantColumns]\n",
    "\n",
    "    # Initialising empty array of scores\n",
    "    scoresToReturn={}\n",
    "    column=0\n",
    "    scoresToReturn[\"country\"] = [country for attribute in attributes]\n",
    "    scoresToReturn[\"projectName\"] = [projectName for attribute in attributes]\n",
    "    scoresToReturn[\"projectID\"] = [projectID for attribute in attributes]\n",
    "    for typology in typologies:\n",
    "        for participant in participants:\n",
    "            scoresToReturn[allColumns[column]]=ScoresForAllAttributes(scores=allScores, \n",
    "                                                                        attributes=attributes,\n",
    "                                                                        participant=participant, \n",
    "                                                                        typology=typology, \n",
    "                                                                        average=False )\n",
    "            column+=1\n",
    "    \n",
    "    scoresToReturn[\"average\"]=ScoresForAllAttributes(scores=allScores, \n",
    "                                                        attributes=attributes,\n",
    "                                                        participant=participants[1], \n",
    "                                                        typology=participants[1], \n",
    "                                                        average=True )\n",
    "    return scoresToReturn\n",
    "\n",
    "def ContextScoresAllProjectsList(projects):\n",
    "    projectsCombined=[]\n",
    "    #projectIndex=0\n",
    "    for project in projects:\n",
    "        projectsCombined.append(projectContextScores(project=project))\n",
    "        #projectIndex+=1\n",
    "    return(projectsCombined)\n",
    "\n",
    "def ContextScoresAllProjects(projects):\n",
    "    contextScoresList = ContextScoresAllProjectsList(allProjects)\n",
    "    if len(contextScoresList)==1:\n",
    "        return pd.DataFrame(contextScoresList)\n",
    "    if len(contextScoresList)>1:\n",
    "        contextScoresDF=pd.DataFrame(contextScoresList[0])\n",
    "        for scoreItem in contextScoresList[1:]:\n",
    "            contextScoresDF = contextScoresDF.append(pd.DataFrame(scoreItem))\n",
    "    return contextScoresDF\n",
    "ContextScoresAllProjects(projects=allProjects)\n"
   ]
  },
  {
   "source": [
    "## Extracting Data for PairWise Rankings"
   ],
   "cell_type": "markdown",
   "metadata": {}
  },
  {
   "source": [
    "### Individual Selections"
   ],
   "cell_type": "markdown",
   "metadata": {}
  },
  {
   "cell_type": "code",
   "execution_count": null,
   "metadata": {},
   "outputs": [],
   "source": [
    "def pairWiseSelectionsProjectGender(project,gender):\n",
    "\n",
    "    selections = project[\"rawdata\"][\"pairWiseScores\"][gender][\"pairwiseSelection\"]\n",
    "    projectName= project[\"rawdata\"][\"projectInfo\"][\"projectName\"]\n",
    "    projectID= project[\"projectID\"]\n",
    "    country =  project[\"rawdata\"][\"projectInfo\"][\"country\"]\n",
    "\n",
    "\n",
    "    selectionsToReturn=[]\n",
    "\n",
    "    for selection in selections:\n",
    "        selectionToAppend={\n",
    "            \"country\": country,\n",
    "            \"projectName\": projectName,\n",
    "            \"projectID\":projectID,\n",
    "            \"option1\": selection[\"funct1\"][\"name\"],\n",
    "            \"option2\": selection[\"funct2\"][\"name\"],\n",
    "            gender+\"Choice\": selection[\"value\"][\"name\"],\n",
    "        }\n",
    "        selectionsToReturn.append(selectionToAppend)\n",
    "    return pd.DataFrame(selectionsToReturn)\n",
    "\n",
    "def pairWiseSelectionsProject(project):\n",
    "    male=pairWiseSelectionsProjectGender(project=project,gender=\"male\")\n",
    "    female=pairWiseSelectionsProjectGender(project=project,gender=\"female\")\n",
    "\n",
    "    allSelections = male\n",
    "    allSelections[\"femaleChoice\"] = female[\"femaleChoice\"]\n",
    "    return allSelections\n",
    "\n",
    "def pairWiseSelectionsAllProjects(projects):\n",
    "    if len(projects)==1:\n",
    "        return pairWiseSelectionsProject(projects)\n",
    "    if len(projects)>1:\n",
    "        pairWiseScoresDF=pairWiseSelectionsProject(projects[0])\n",
    "        for project in projects[1:]:\n",
    "            pairWiseScoresDF = pairWiseScoresDF.append(pairWiseSelectionsProject(project))\n",
    "    return pairWiseScoresDF\n",
    "pairWiseSelectionsAllProjects(projects=allProjects)\n",
    "\n"
   ]
  },
  {
   "source": [
    "### Averages"
   ],
   "cell_type": "markdown",
   "metadata": {}
  },
  {
   "cell_type": "code",
   "execution_count": null,
   "metadata": {},
   "outputs": [],
   "source": [
    "def pairWiseSummaryScores(project):\n",
    "    country =  project[\"rawdata\"][\"projectInfo\"][\"country\"]\n",
    "    projectID = project[\"projectID\"]\n",
    "    projectName = project[\"rawdata\"][\"projectInfo\"][\"projectName\"]\n",
    "    maleTotals = project[\"rawdata\"][\"pairWiseScores\"][\"male\"][\"totals\"]\n",
    "    femaleTotals = project[\"rawdata\"][\"pairWiseScores\"][\"female\"][\"totals\"]\n",
    "    averages = project[\"rawdata\"][\"pairWiseScores\"][\"averages\"]\n",
    "\n",
    "\n",
    "    pairWiseAverages = []\n",
    "    for scoreIndex in range(0,len(maleTotals)):\n",
    "        scoresToAppend = {\n",
    "            \"country\": country,\n",
    "            \"projectName\":projectName,\n",
    "            \"projectID\":projectID,\n",
    "            \"attribute\": maleTotals[scoreIndex][\"attribute\"][\"name\"],\n",
    "            \"countMale\": maleTotals[scoreIndex][\"value\"],\n",
    "            \"countFemale\": femaleTotals[scoreIndex][\"value\"],\n",
    "            \"average\": averages[scoreIndex][\"value\"],\n",
    "        }\n",
    "        pairWiseAverages.append(scoresToAppend)\n",
    "\n",
    "    return pd.DataFrame(pairWiseAverages)\n",
    "\n",
    "def pairWiseSelectionSummaryAllProjects(projects):\n",
    "    if len(projects)==1:\n",
    "        return pairWiseSummaryScores(projects)\n",
    "    if len(projects)>1:\n",
    "        pairWiseSummaryScoresDF=pairWiseSummaryScores(projects[0])\n",
    "        for project in projects[1:]:\n",
    "            pairWiseSummaryScoresDF = pairWiseSummaryScoresDF.append(pairWiseSummaryScores(project))\n",
    "    return pairWiseSummaryScoresDF\n",
    "pairWiseSelectionSummaryAllProjects(projects=allProjects)\n"
   ]
  },
  {
   "source": [
    "## Participatory Matrix Scores"
   ],
   "cell_type": "markdown",
   "metadata": {}
  },
  {
   "cell_type": "code",
   "execution_count": null,
   "metadata": {},
   "outputs": [],
   "source": [
    "\n",
    "# Extracting farmer data\n",
    "def participatoryMatrixScoresProject(project):\n",
    "    #project=allProjects[0]\n",
    "    country =  project[\"rawdata\"][\"projectInfo\"][\"country\"]\n",
    "    projectID = project[\"projectID\"]\n",
    "    projectName = project[\"rawdata\"][\"projectInfo\"][\"projectName\"]\n",
    "    farmers = project[\"rawdata\"][\"participatoryMatrixScores\"][\"farmers\"]\n",
    "    farmersClean=[]\n",
    "    for farmer in farmers:\n",
    "        newFarmer={}\n",
    "        newFarmer[\"country\"]=country\n",
    "        newFarmer[\"projectID\"]=projectID\n",
    "        newFarmer[\"projectName\"]=projectName\n",
    "        newFarmer[\"gender\"]=farmer[\"gender\"]\n",
    "        newFarmer[\"typology\"]=farmer[\"typology\"]\n",
    "        \n",
    "        for selection in farmer[\"selections\"]:\n",
    "            newFarmer[selection[\"label\"]]=selection[\"score\"]\n",
    "        newFarmer[\"total\"]=farmer[\"total\"]\n",
    "        farmersClean.append(newFarmer)\n",
    "    return pd.DataFrame(farmersClean)\n",
    "\n",
    "\n",
    "def participatoryMatrixAllProjects(projects):\n",
    "    if len(projects)==1:\n",
    "        return participatoryMatrixScoresProject(projects)\n",
    "    if len(projects)>1:\n",
    "        participatoryMatrixScoresDF=participatoryMatrixScoresProject(projects[0])\n",
    "        for project in projects[1:]:\n",
    "            participatoryMatrixScoresDF = participatoryMatrixScoresDF.append(participatoryMatrixScoresProject(project))\n",
    "    return participatoryMatrixScoresDF\n",
    "participatoryMatrixAllProjects(projects=allProjects)"
   ]
  },
  {
   "cell_type": "code",
   "execution_count": null,
   "metadata": {},
   "outputs": [],
   "source": [
    "# projectIndex = 0\n",
    "# project = allProjects[projectIndex]\n",
    "# legumes = project[\"rawdata\"][\"results\"][\"legumes\"]\n",
    "\n",
    "\n",
    "def extractLegumeResults(legume, country, projectName, projectID):\n",
    "    contextVariables = [\"land\",\n",
    "            \"labour\",\n",
    "            \"seed\",\n",
    "            \"inp-serv\",\n",
    "            \"knowl-skill\",\n",
    "            \"water\",\n",
    "            \"markets\"]\n",
    "\n",
    "    functionVariables=[\"food\",\n",
    "            \"feed\",\n",
    "            \"income\",\n",
    "            \"erosion-control\",\n",
    "            \"fuel\",\n",
    "            \"soil-fertility\"]\n",
    "\n",
    "    legumeVariables = [\"name\",\n",
    "            \"type\",\n",
    "            \"food\",\n",
    "            \"feed\",\n",
    "            \"income\",\n",
    "            \"erosion-control\",\n",
    "            \"fuel\",\n",
    "            \"soil-fertility\",\n",
    "            \"land\",\n",
    "            \"labour\",\n",
    "            \"seed\",\n",
    "            \"inp-serv\",\n",
    "            \"knowl-skill\",\n",
    "            \"water\",\n",
    "            \"markets\",\n",
    "            \"agroecology-source\"]\n",
    "\n",
    "    maxMinVariables=[\"rainfall\",\n",
    "            \"temp\",\n",
    "            \"alt\",\n",
    "            \"soilpH\"]\n",
    "\n",
    "    legumeData = {\n",
    "        \"country\":country, \n",
    "        \"projectName\": projectName, \n",
    "        \"projectID\":projectID,\n",
    "        \"legumeName\":legume[\"name\"]\n",
    "\n",
    "    }\n",
    "    #legume = legumes[0]\n",
    "    for variable in  legumeVariables:\n",
    "        #print(variable)\n",
    "        if variable in contextVariables:\n",
    "            legumeData[\"context_\"+variable]=legume[variable]\n",
    "        if variable in functionVariables:\n",
    "            legumeData[\"function_\"+variable]=legume[variable]\n",
    "    for variable in maxMinVariables:\n",
    "        legumeData[\"agroEco_\"+variable+\"_min\"]=legume[variable][0][\"min\"]\n",
    "        legumeData[\"agroEco_\"+variable+\"_max\"]=legume[variable][0][\"max\"]\n",
    "\n",
    "    for agroEcoScore in legume[\"results\"][\"agroEcoFit\"]:\n",
    "        if \"agroEcoFilter\" in agroEcoScore.keys():\n",
    "            scoreAttribute=agroEcoScore[\"agroEcoFilter\"][\"label\"]\n",
    "            legumeData[\"agroEcoScore_\"+scoreAttribute]=agroEcoScore[\"score\"]\n",
    "        if \"overallFit\" in agroEcoScore.keys():\n",
    "            legumeData[\"OVERALL_agroEcoScore\"]=agroEcoScore[\"overallFit\"]\n",
    "        if \"overallRank\" in agroEcoScore.keys():\n",
    "            legumeData[\"OVERALL_agroEcoRank\"]=agroEcoScore[\"overallRank\"]\n",
    "\n",
    "    for contextScore in legume[\"results\"][\"contextFit\"]:\n",
    "        if \"attribute\" in contextScore.keys():\n",
    "            scoreAttribute=contextScore[\"attribute\"][\"label\"]\n",
    "            legumeData[\"contextScore_\"+scoreAttribute]=contextScore[\"score\"]\n",
    "        if \"overallFit\" in contextScore.keys():\n",
    "            legumeData[\"OVERALL_contextScore\"]=contextScore[\"overallFit\"]\n",
    "        if \"overallRank\" in contextScore.keys():\n",
    "            legumeData[\"OVERALL_contextRank\"]=contextScore[\"overallRank\"]\n",
    "\n",
    "    for functionScore in legume[\"results\"][\"functionFit\"]:\n",
    "        if \"legumeFunction\" in functionScore.keys():\n",
    "            scoreAttribute=functionScore[\"legumeFunction\"][\"label\"]\n",
    "            legumeData[\"functionScore\"+scoreAttribute]=functionScore[\"score\"]\n",
    "        if \"overallFit\" in functionScore.keys():\n",
    "            legumeData[\"OVERALL_functionScore\"]=functionScore[\"overallFit\"]\n",
    "        if \"overallRank\" in functionScore.keys():\n",
    "            legumeData[\"OVERALL_functionRank\"]=functionScore[\"overallRank\"]\n",
    "    \n",
    "    return legumeData\n",
    "\n",
    "\n",
    "\n"
   ]
  },
  {
   "cell_type": "code",
   "execution_count": null,
   "metadata": {},
   "outputs": [],
   "source": [
    "#extractLegumeResults(legumes[0])\n",
    "\n",
    "def extractAllLegumeData(legumes, country, projectName, projectID):\n",
    "    legumeData = []\n",
    "\n",
    "    for legume in legumes:\n",
    "        legumeData.append(extractLegumeResults(legume=legume, \n",
    "                                                country=country, \n",
    "                                                projectName=projectName, \n",
    "                                                projectID=projectID))\n",
    "\n",
    "    return pd.DataFrame(legumeData)\n"
   ]
  },
  {
   "cell_type": "code",
   "execution_count": null,
   "metadata": {},
   "outputs": [],
   "source": [
    "    \n",
    "country =  project[\"rawdata\"][\"projectInfo\"][\"country\"]\n",
    "projectID = project[\"projectID\"]\n",
    "projectName = project[\"rawdata\"][\"projectInfo\"][\"projectName\"]\n",
    "legumes = project[\"rawdata\"][\"results\"][\"legumes\"]\n",
    "extractAllLegumeData(legumes=legumes, country=country, projectName=projectName, projectID=projectID)\n",
    "\n",
    "\n"
   ]
  },
  {
   "cell_type": "code",
   "execution_count": null,
   "metadata": {},
   "outputs": [],
   "source": []
  },
  {
   "cell_type": "code",
   "execution_count": null,
   "metadata": {},
   "outputs": [],
   "source": [
    "agroEcoData.ExtractProjectAgroEcoData??"
   ]
  },
  {
   "cell_type": "code",
   "execution_count": null,
   "metadata": {},
   "outputs": [],
   "source": []
  },
  {
   "cell_type": "code",
   "execution_count": null,
   "metadata": {},
   "outputs": [],
   "source": []
  }
 ]
}