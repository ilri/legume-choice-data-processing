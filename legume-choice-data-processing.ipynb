{
 "metadata": {
  "language_info": {
   "codemirror_mode": {
    "name": "ipython",
    "version": 3
   },
   "file_extension": ".py",
   "mimetype": "text/x-python",
   "name": "python",
   "nbconvert_exporter": "python",
   "pygments_lexer": "ipython3",
   "version": "3.8.5-final"
  },
  "orig_nbformat": 2,
  "kernelspec": {
   "name": "python38564bit009b3aeb1fc3468499e8b7ce7fc7674d",
   "display_name": "Python 3.8.5 64-bit",
   "language": "python"
  }
 },
 "nbformat": 4,
 "nbformat_minor": 2,
 "cells": [
  {
   "cell_type": "code",
   "execution_count": 1,
   "metadata": {},
   "outputs": [],
   "source": [
    "import pandas as pd \n",
    "import pymongo"
   ]
  },
  {
   "source": [
    "## Connecting to DB"
   ],
   "cell_type": "markdown",
   "metadata": {}
  },
  {
   "cell_type": "code",
   "execution_count": 2,
   "metadata": {},
   "outputs": [
    {
     "output_type": "stream",
     "name": "stdout",
     "text": [
      "legume-choice\n3\n"
     ]
    }
   ],
   "source": [
    "client = pymongo.MongoClient(\"localhost\", 27017)\n",
    "db = client[\"legume-choice\"]\n",
    "print(db.name)\n",
    "# Extracting the projects data\n",
    "projectsData =  db[\"projects\"]\n",
    "# Finding the number of projects\n",
    "print(projectsData.count_documents({}))"
   ]
  },
  {
   "source": [
    "## Extracting Data"
   ],
   "cell_type": "markdown",
   "metadata": {}
  },
  {
   "cell_type": "code",
   "execution_count": 3,
   "metadata": {
    "tags": []
   },
   "outputs": [
    {
     "output_type": "execute_result",
     "data": {
      "text/plain": [
       "{'biofilters': [{'name': 'Rainfall (mm/year)',\n",
       "   'label': 'rainfall',\n",
       "   'minValue': 280,\n",
       "   'maxValue': 4290,\n",
       "   'value': 2175},\n",
       "  {'name': 'Temperature (mean °C/month)',\n",
       "   'label': 'temp',\n",
       "   'minValue': 0,\n",
       "   'maxValue': 45,\n",
       "   'value': 14.5},\n",
       "  {'name': 'Altitude (average masl)',\n",
       "   'label': 'alt',\n",
       "   'minValue': 0,\n",
       "   'maxValue': 3800,\n",
       "   'value': 1845},\n",
       "  {'name': 'Soil pH (average)',\n",
       "   'label': 'soilpH',\n",
       "   'minValue': 4,\n",
       "   'maxValue': 9,\n",
       "   'value': 8.5}]}"
      ]
     },
     "metadata": {},
     "execution_count": 3
    }
   ],
   "source": [
    "# Extacting all projects\n",
    "allProjects = []\n",
    "for project in projectsData.find():\n",
    "        allProjects.append(project)\n",
    "\n",
    "# Example querying from the dataset\n",
    "\n",
    "allProjects[0][\"rawdata\"][\"agroEcoData\"]\n"
   ]
  },
  {
   "source": [
    "## Extracting Agro Ecological Scores for all Projects"
   ],
   "cell_type": "markdown",
   "metadata": {}
  },
  {
   "cell_type": "code",
   "execution_count": 11,
   "metadata": {},
   "outputs": [],
   "source": [
    "# Tabular AgroEco scores\n",
    "\n",
    "def ExtractProjectAgroEcoData(project):\n",
    "    projectID =  project[\"projectID\"]\n",
    "    projectName =  project[\"rawdata\"][\"projectInfo\"][\"projectName\"]\n",
    "\n",
    "    agroEcoData = project[\"rawdata\"][\"agroEcoData\"][\"biofilters\"]\n",
    "\n",
    "    row={\"projectID\":projectID,\"projectName\":projectName}\n",
    "\n",
    "\n",
    "    for index in range(0,len(agroEcoData)):\n",
    "        row[agroEcoData[index][\"label\"]]=agroEcoData[index][\"value\"]\n",
    "        \n",
    "    return row\n",
    "def ExtractAllAgroEcoData(projects):\n",
    "    agroEcoData=[]\n",
    "    for project in projects:\n",
    "        agroEcoData.append(ExtractProjectAgroEcoData(project=project))\n",
    "    return pd.DataFrame(agroEcoData)\n",
    "\n",
    "\n"
   ]
  },
  {
   "cell_type": "code",
   "execution_count": 12,
   "metadata": {},
   "outputs": [],
   "source": [
    "agroEcoData = ExtractAllAgroEcoData(allProjects)\n",
    "agroEcoData"
   ]
  },
  {
   "source": [
    "## Extracting all Data for Context Scores"
   ],
   "cell_type": "markdown",
   "metadata": {}
  },
  {
   "cell_type": "code",
   "execution_count": 59,
   "metadata": {},
   "outputs": [],
   "source": [
    "def subsetScoresByVariables(scores, attributeLabel, participantLabel, typologyLabel, average):\n",
    "\n",
    "    if (average==False):\n",
    "        for score in scores:\n",
    "            if (score[\"scoreType\"]==\"individual\" and \n",
    "            score[\"attribute\"][\"label\"]==attributeLabel and \n",
    "            score[\"participant\"][\"label\"]==participantLabel and \n",
    "            score[\"typology\"][\"label\"]==typologyLabel):\n",
    "                 return score[\"score\"]\n",
    "\n",
    "    if (average==True):\n",
    "        for score in scores:\n",
    "            if (score[\"scoreType\"]==\"average\" and \n",
    "            score[\"attribute\"][\"label\"]==attributeLabel): \n",
    "                return score[\"score\"]\n",
    "\n",
    "    raise ValueError(\"Did not identify correct subset\")\n",
    "    \n",
    "\n",
    "def ScoresForAllAttributes(scores, attributes, participant, typology, average):\n",
    "    listOfScores=[]\n",
    "    for attribute in attributes:\n",
    "        listOfScores.append(subsetScoresByVariables(scores=scores, \n",
    "        attributeLabel=attribute[\"label\"], \n",
    "        participantLabel=participant[\"label\"], \n",
    "        typologyLabel=typology[\"label\"], \n",
    "        average=average))\n",
    "\n",
    "    return listOfScores\n",
    "\n",
    "\n",
    "def projectContextScores(project):\n",
    "\n",
    "    # Initialising Variables\n",
    "    projectID =  project[\"projectID\"]\n",
    "    projectName =  project[\"rawdata\"][\"projectInfo\"][\"projectName\"]\n",
    "\n",
    "\n",
    "    allScores = project[\"rawdata\"][\"contextScores\"][\"scores\"]\n",
    "    attributes = project[\"rawdata\"][\"contextScores\"][\"attributes\"]\n",
    "    participants = project[\"rawdata\"][\"contextScores\"][\"participants\"]\n",
    "    typologies = project[\"rawdata\"][\"contextScores\"][\"typologies\"]\n",
    "\n",
    "    # Creating column names for dataframe\n",
    "    typologyColumns = [ \"t_\"+typology[\"label\"] for typology in typologies]\n",
    "    participantColumns = [participant[\"label\"] for participant in participants]\n",
    "    allColumns = [typ+\"_\"+particip for typ in typologyColumns for particip in participantColumns]\n",
    "\n",
    "    # Initialising empty array of scores\n",
    "    scoresToReturn={}\n",
    "    column=0\n",
    "    scoresToReturn[\"projectName\"] = [projectName for attribute in attributes]\n",
    "    scoresToReturn[\"projectID\"] = [projectID for attribute in attributes]\n",
    "    for typology in typologies:\n",
    "        for participant in participants:\n",
    "            scoresToReturn[allColumns[column]]=ScoresForAllAttributes(scores=allScores, \n",
    "                                                                        attributes=attributes,\n",
    "                                                                        participant=participant, \n",
    "                                                                        typology=typology, \n",
    "                                                                        average=False )\n",
    "            column+=1\n",
    "    \n",
    "    scoresToReturn[\"average\"]=ScoresForAllAttributes(scores=allScores, \n",
    "                                                        attributes=attributes,\n",
    "                                                        participant=participants[1], \n",
    "                                                        typology=participants[1], \n",
    "                                                        average=True )\n",
    "    return scoresToReturn\n",
    "\n",
    "def ContextScoresAllProjectsList(projects):\n",
    "    projectsCombined=[]\n",
    "    #projectIndex=0\n",
    "    for project in projects:\n",
    "        projectsCombined.append(projectContextScores(project=project))\n",
    "        #projectIndex+=1\n",
    "    return(projectsCombined)\n",
    "\n",
    "def ContextScoresAllProjects(projects):\n",
    "    contextScoresList = ContextScoresAllProjectsList(allProjects)\n",
    "    if len(contextScoresList)==1:\n",
    "        return pd.DataFrame(contextScoresList)\n",
    "    if len(contextScoresList)>1:\n",
    "        contextScoresDF=pd.DataFrame(contextScoresList[0])\n",
    "        for scoreItem in contextScoresList[1:]:\n",
    "            contextScoresDF = contextScoresDF.append(pd.DataFrame(scoreItem))\n",
    "    return contextScoresDF\n",
    "\n",
    "\n",
    "        "
   ]
  },
  {
   "cell_type": "code",
   "execution_count": 60,
   "metadata": {},
   "outputs": [
    {
     "output_type": "execute_result",
     "data": {
      "text/plain": [
       "  projectName                             projectID  t_low_farmer  \\\n",
       "0     wqeaafd  d4e74b50-6b07-4bb2-9be7-af7f52e4947d             1   \n",
       "1     wqeaafd  d4e74b50-6b07-4bb2-9be7-af7f52e4947d             2   \n",
       "2     wqeaafd  d4e74b50-6b07-4bb2-9be7-af7f52e4947d             1   \n",
       "3     wqeaafd  d4e74b50-6b07-4bb2-9be7-af7f52e4947d             2   \n",
       "4     wqeaafd  d4e74b50-6b07-4bb2-9be7-af7f52e4947d             4   \n",
       "5     wqeaafd  d4e74b50-6b07-4bb2-9be7-af7f52e4947d             1   \n",
       "6     wqeaafd  d4e74b50-6b07-4bb2-9be7-af7f52e4947d             3   \n",
       "0   Project 2  d4e74b50-6b07-4bb2-9be7-af7f52e4947d             3   \n",
       "1   Project 2  d4e74b50-6b07-4bb2-9be7-af7f52e4947d             1   \n",
       "2   Project 2  d4e74b50-6b07-4bb2-9be7-af7f52e4947d             4   \n",
       "3   Project 2  d4e74b50-6b07-4bb2-9be7-af7f52e4947d             4   \n",
       "4   Project 2  d4e74b50-6b07-4bb2-9be7-af7f52e4947d             0   \n",
       "5   Project 2  d4e74b50-6b07-4bb2-9be7-af7f52e4947d             4   \n",
       "6   Project 2  d4e74b50-6b07-4bb2-9be7-af7f52e4947d             3   \n",
       "0   Project 3  9c824f39-779c-446b-8d36-3f114fcdfeb9             2   \n",
       "1   Project 3  9c824f39-779c-446b-8d36-3f114fcdfeb9             0   \n",
       "2   Project 3  9c824f39-779c-446b-8d36-3f114fcdfeb9             0   \n",
       "3   Project 3  9c824f39-779c-446b-8d36-3f114fcdfeb9             0   \n",
       "4   Project 3  9c824f39-779c-446b-8d36-3f114fcdfeb9             3   \n",
       "5   Project 3  9c824f39-779c-446b-8d36-3f114fcdfeb9             0   \n",
       "6   Project 3  9c824f39-779c-446b-8d36-3f114fcdfeb9             3   \n",
       "\n",
       "   t_low_expert  t_med_farmer  t_med_expert  t_high_farmer  t_high_expert  \\\n",
       "0             2             3             1              4              2   \n",
       "1             3             1             2              4              4   \n",
       "2             2             4             1              2              4   \n",
       "3             3             4             4              4              4   \n",
       "4             1             4             0              3              4   \n",
       "5             1             0             0              1              0   \n",
       "6             0             4             0              0              0   \n",
       "0             2             4             1              4              2   \n",
       "1             1             1             2              4              4   \n",
       "2             0             4             1              0              4   \n",
       "3             0             4             0              4              4   \n",
       "4             1             0             0              3              4   \n",
       "5             4             0             0              1              0   \n",
       "6             0             4             0              0              0   \n",
       "0             0             0             0              0              0   \n",
       "1             3             0             0              0              0   \n",
       "2             0             4             4              4              0   \n",
       "3             0             0             0              0              0   \n",
       "4             2             2             0              0              0   \n",
       "5             0             0             0              0              0   \n",
       "6             0             2             2              0              0   \n",
       "\n",
       "    average  \n",
       "0  2.166667  \n",
       "1  2.666667  \n",
       "2  2.333333  \n",
       "3  3.500000  \n",
       "4  2.666667  \n",
       "5  0.500000  \n",
       "6  1.166667  \n",
       "0  2.666667  \n",
       "1  2.166667  \n",
       "2  2.166667  \n",
       "3  2.666667  \n",
       "4  1.333333  \n",
       "5  1.500000  \n",
       "6  1.166667  \n",
       "0  0.333333  \n",
       "1  0.500000  \n",
       "2  2.000000  \n",
       "3  0.000000  \n",
       "4  1.166667  \n",
       "5  0.000000  \n",
       "6  1.166667  "
      ],
      "text/html": "<div>\n<style scoped>\n    .dataframe tbody tr th:only-of-type {\n        vertical-align: middle;\n    }\n\n    .dataframe tbody tr th {\n        vertical-align: top;\n    }\n\n    .dataframe thead th {\n        text-align: right;\n    }\n</style>\n<table border=\"1\" class=\"dataframe\">\n  <thead>\n    <tr style=\"text-align: right;\">\n      <th></th>\n      <th>projectName</th>\n      <th>projectID</th>\n      <th>t_low_farmer</th>\n      <th>t_low_expert</th>\n      <th>t_med_farmer</th>\n      <th>t_med_expert</th>\n      <th>t_high_farmer</th>\n      <th>t_high_expert</th>\n      <th>average</th>\n    </tr>\n  </thead>\n  <tbody>\n    <tr>\n      <th>0</th>\n      <td>wqeaafd</td>\n      <td>d4e74b50-6b07-4bb2-9be7-af7f52e4947d</td>\n      <td>1</td>\n      <td>2</td>\n      <td>3</td>\n      <td>1</td>\n      <td>4</td>\n      <td>2</td>\n      <td>2.166667</td>\n    </tr>\n    <tr>\n      <th>1</th>\n      <td>wqeaafd</td>\n      <td>d4e74b50-6b07-4bb2-9be7-af7f52e4947d</td>\n      <td>2</td>\n      <td>3</td>\n      <td>1</td>\n      <td>2</td>\n      <td>4</td>\n      <td>4</td>\n      <td>2.666667</td>\n    </tr>\n    <tr>\n      <th>2</th>\n      <td>wqeaafd</td>\n      <td>d4e74b50-6b07-4bb2-9be7-af7f52e4947d</td>\n      <td>1</td>\n      <td>2</td>\n      <td>4</td>\n      <td>1</td>\n      <td>2</td>\n      <td>4</td>\n      <td>2.333333</td>\n    </tr>\n    <tr>\n      <th>3</th>\n      <td>wqeaafd</td>\n      <td>d4e74b50-6b07-4bb2-9be7-af7f52e4947d</td>\n      <td>2</td>\n      <td>3</td>\n      <td>4</td>\n      <td>4</td>\n      <td>4</td>\n      <td>4</td>\n      <td>3.500000</td>\n    </tr>\n    <tr>\n      <th>4</th>\n      <td>wqeaafd</td>\n      <td>d4e74b50-6b07-4bb2-9be7-af7f52e4947d</td>\n      <td>4</td>\n      <td>1</td>\n      <td>4</td>\n      <td>0</td>\n      <td>3</td>\n      <td>4</td>\n      <td>2.666667</td>\n    </tr>\n    <tr>\n      <th>5</th>\n      <td>wqeaafd</td>\n      <td>d4e74b50-6b07-4bb2-9be7-af7f52e4947d</td>\n      <td>1</td>\n      <td>1</td>\n      <td>0</td>\n      <td>0</td>\n      <td>1</td>\n      <td>0</td>\n      <td>0.500000</td>\n    </tr>\n    <tr>\n      <th>6</th>\n      <td>wqeaafd</td>\n      <td>d4e74b50-6b07-4bb2-9be7-af7f52e4947d</td>\n      <td>3</td>\n      <td>0</td>\n      <td>4</td>\n      <td>0</td>\n      <td>0</td>\n      <td>0</td>\n      <td>1.166667</td>\n    </tr>\n    <tr>\n      <th>0</th>\n      <td>Project 2</td>\n      <td>d4e74b50-6b07-4bb2-9be7-af7f52e4947d</td>\n      <td>3</td>\n      <td>2</td>\n      <td>4</td>\n      <td>1</td>\n      <td>4</td>\n      <td>2</td>\n      <td>2.666667</td>\n    </tr>\n    <tr>\n      <th>1</th>\n      <td>Project 2</td>\n      <td>d4e74b50-6b07-4bb2-9be7-af7f52e4947d</td>\n      <td>1</td>\n      <td>1</td>\n      <td>1</td>\n      <td>2</td>\n      <td>4</td>\n      <td>4</td>\n      <td>2.166667</td>\n    </tr>\n    <tr>\n      <th>2</th>\n      <td>Project 2</td>\n      <td>d4e74b50-6b07-4bb2-9be7-af7f52e4947d</td>\n      <td>4</td>\n      <td>0</td>\n      <td>4</td>\n      <td>1</td>\n      <td>0</td>\n      <td>4</td>\n      <td>2.166667</td>\n    </tr>\n    <tr>\n      <th>3</th>\n      <td>Project 2</td>\n      <td>d4e74b50-6b07-4bb2-9be7-af7f52e4947d</td>\n      <td>4</td>\n      <td>0</td>\n      <td>4</td>\n      <td>0</td>\n      <td>4</td>\n      <td>4</td>\n      <td>2.666667</td>\n    </tr>\n    <tr>\n      <th>4</th>\n      <td>Project 2</td>\n      <td>d4e74b50-6b07-4bb2-9be7-af7f52e4947d</td>\n      <td>0</td>\n      <td>1</td>\n      <td>0</td>\n      <td>0</td>\n      <td>3</td>\n      <td>4</td>\n      <td>1.333333</td>\n    </tr>\n    <tr>\n      <th>5</th>\n      <td>Project 2</td>\n      <td>d4e74b50-6b07-4bb2-9be7-af7f52e4947d</td>\n      <td>4</td>\n      <td>4</td>\n      <td>0</td>\n      <td>0</td>\n      <td>1</td>\n      <td>0</td>\n      <td>1.500000</td>\n    </tr>\n    <tr>\n      <th>6</th>\n      <td>Project 2</td>\n      <td>d4e74b50-6b07-4bb2-9be7-af7f52e4947d</td>\n      <td>3</td>\n      <td>0</td>\n      <td>4</td>\n      <td>0</td>\n      <td>0</td>\n      <td>0</td>\n      <td>1.166667</td>\n    </tr>\n    <tr>\n      <th>0</th>\n      <td>Project 3</td>\n      <td>9c824f39-779c-446b-8d36-3f114fcdfeb9</td>\n      <td>2</td>\n      <td>0</td>\n      <td>0</td>\n      <td>0</td>\n      <td>0</td>\n      <td>0</td>\n      <td>0.333333</td>\n    </tr>\n    <tr>\n      <th>1</th>\n      <td>Project 3</td>\n      <td>9c824f39-779c-446b-8d36-3f114fcdfeb9</td>\n      <td>0</td>\n      <td>3</td>\n      <td>0</td>\n      <td>0</td>\n      <td>0</td>\n      <td>0</td>\n      <td>0.500000</td>\n    </tr>\n    <tr>\n      <th>2</th>\n      <td>Project 3</td>\n      <td>9c824f39-779c-446b-8d36-3f114fcdfeb9</td>\n      <td>0</td>\n      <td>0</td>\n      <td>4</td>\n      <td>4</td>\n      <td>4</td>\n      <td>0</td>\n      <td>2.000000</td>\n    </tr>\n    <tr>\n      <th>3</th>\n      <td>Project 3</td>\n      <td>9c824f39-779c-446b-8d36-3f114fcdfeb9</td>\n      <td>0</td>\n      <td>0</td>\n      <td>0</td>\n      <td>0</td>\n      <td>0</td>\n      <td>0</td>\n      <td>0.000000</td>\n    </tr>\n    <tr>\n      <th>4</th>\n      <td>Project 3</td>\n      <td>9c824f39-779c-446b-8d36-3f114fcdfeb9</td>\n      <td>3</td>\n      <td>2</td>\n      <td>2</td>\n      <td>0</td>\n      <td>0</td>\n      <td>0</td>\n      <td>1.166667</td>\n    </tr>\n    <tr>\n      <th>5</th>\n      <td>Project 3</td>\n      <td>9c824f39-779c-446b-8d36-3f114fcdfeb9</td>\n      <td>0</td>\n      <td>0</td>\n      <td>0</td>\n      <td>0</td>\n      <td>0</td>\n      <td>0</td>\n      <td>0.000000</td>\n    </tr>\n    <tr>\n      <th>6</th>\n      <td>Project 3</td>\n      <td>9c824f39-779c-446b-8d36-3f114fcdfeb9</td>\n      <td>3</td>\n      <td>0</td>\n      <td>2</td>\n      <td>2</td>\n      <td>0</td>\n      <td>0</td>\n      <td>1.166667</td>\n    </tr>\n  </tbody>\n</table>\n</div>"
     },
     "metadata": {},
     "execution_count": 60
    }
   ],
   "source": [
    "ContextScoresAllProjects(projects=allProjects)\n"
   ]
  },
  {
   "source": [
    "## Extracting Data for PairWise Rankings"
   ],
   "cell_type": "markdown",
   "metadata": {}
  },
  {
   "cell_type": "code",
   "execution_count": null,
   "metadata": {},
   "outputs": [],
   "source": [
    "allProjects[\"rawdata\"][]"
   ]
  }
 ]
}